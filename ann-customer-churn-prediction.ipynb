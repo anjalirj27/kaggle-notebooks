{
 "cells": [
  {
   "cell_type": "code",
   "execution_count": 1,
   "id": "caf21bee",
   "metadata": {
    "_cell_guid": "b1076dfc-b9ad-4769-8c92-a6c4dae69d19",
    "_uuid": "8f2839f25d086af736a60e9eeb907d3b93b6e0e5",
    "execution": {
     "iopub.execute_input": "2024-12-21T07:55:57.480778Z",
     "iopub.status.busy": "2024-12-21T07:55:57.480385Z",
     "iopub.status.idle": "2024-12-21T07:55:57.881502Z",
     "shell.execute_reply": "2024-12-21T07:55:57.880181Z"
    },
    "papermill": {
     "duration": 0.413598,
     "end_time": "2024-12-21T07:55:57.883449",
     "exception": false,
     "start_time": "2024-12-21T07:55:57.469851",
     "status": "completed"
    },
    "tags": []
   },
   "outputs": [
    {
     "name": "stdout",
     "output_type": "stream",
     "text": [
      "/kaggle/input/credit-card-customer-churn-prediction/Churn_Modelling.csv\n"
     ]
    }
   ],
   "source": [
    "# This Python 3 environment comes with many helpful analytics libraries installed\n",
    "# It is defined by the kaggle/python Docker image: https://github.com/kaggle/docker-python\n",
    "# For example, here's several helpful packages to load\n",
    "\n",
    "import numpy as np # linear algebra\n",
    "import pandas as pd # data processing, CSV file I/O (e.g. pd.read_csv)\n",
    "\n",
    "# Input data files are available in the read-only \"../input/\" directory\n",
    "# For example, running this (by clicking run or pressing Shift+Enter) will list all files under the input directory\n",
    "\n",
    "import os\n",
    "for dirname, _, filenames in os.walk('/kaggle/input'):\n",
    "    for filename in filenames:\n",
    "        print(os.path.join(dirname, filename))\n",
    "\n",
    "# You can write up to 20GB to the current directory (/kaggle/working/) that gets preserved as output when you create a version using \"Save & Run All\" \n",
    "# You can also write temporary files to /kaggle/temp/, but they won't be saved outside of the current session"
   ]
  },
  {
   "cell_type": "code",
   "execution_count": 2,
   "id": "0e853294",
   "metadata": {
    "execution": {
     "iopub.execute_input": "2024-12-21T07:55:57.901254Z",
     "iopub.status.busy": "2024-12-21T07:55:57.900770Z",
     "iopub.status.idle": "2024-12-21T07:55:57.944986Z",
     "shell.execute_reply": "2024-12-21T07:55:57.943819Z"
    },
    "papermill": {
     "duration": 0.055094,
     "end_time": "2024-12-21T07:55:57.947008",
     "exception": false,
     "start_time": "2024-12-21T07:55:57.891914",
     "status": "completed"
    },
    "tags": []
   },
   "outputs": [],
   "source": [
    "df = pd.read_csv('/kaggle/input/credit-card-customer-churn-prediction/Churn_Modelling.csv')"
   ]
  },
  {
   "cell_type": "code",
   "execution_count": 3,
   "id": "6cc85909",
   "metadata": {
    "execution": {
     "iopub.execute_input": "2024-12-21T07:55:57.965714Z",
     "iopub.status.busy": "2024-12-21T07:55:57.965363Z",
     "iopub.status.idle": "2024-12-21T07:55:57.990338Z",
     "shell.execute_reply": "2024-12-21T07:55:57.989252Z"
    },
    "papermill": {
     "duration": 0.036301,
     "end_time": "2024-12-21T07:55:57.992203",
     "exception": false,
     "start_time": "2024-12-21T07:55:57.955902",
     "status": "completed"
    },
    "tags": []
   },
   "outputs": [
    {
     "data": {
      "text/html": [
       "<div>\n",
       "<style scoped>\n",
       "    .dataframe tbody tr th:only-of-type {\n",
       "        vertical-align: middle;\n",
       "    }\n",
       "\n",
       "    .dataframe tbody tr th {\n",
       "        vertical-align: top;\n",
       "    }\n",
       "\n",
       "    .dataframe thead th {\n",
       "        text-align: right;\n",
       "    }\n",
       "</style>\n",
       "<table border=\"1\" class=\"dataframe\">\n",
       "  <thead>\n",
       "    <tr style=\"text-align: right;\">\n",
       "      <th></th>\n",
       "      <th>RowNumber</th>\n",
       "      <th>CustomerId</th>\n",
       "      <th>Surname</th>\n",
       "      <th>CreditScore</th>\n",
       "      <th>Geography</th>\n",
       "      <th>Gender</th>\n",
       "      <th>Age</th>\n",
       "      <th>Tenure</th>\n",
       "      <th>Balance</th>\n",
       "      <th>NumOfProducts</th>\n",
       "      <th>HasCrCard</th>\n",
       "      <th>IsActiveMember</th>\n",
       "      <th>EstimatedSalary</th>\n",
       "      <th>Exited</th>\n",
       "    </tr>\n",
       "  </thead>\n",
       "  <tbody>\n",
       "    <tr>\n",
       "      <th>0</th>\n",
       "      <td>1</td>\n",
       "      <td>15634602</td>\n",
       "      <td>Hargrave</td>\n",
       "      <td>619</td>\n",
       "      <td>France</td>\n",
       "      <td>Female</td>\n",
       "      <td>42</td>\n",
       "      <td>2</td>\n",
       "      <td>0.00</td>\n",
       "      <td>1</td>\n",
       "      <td>1</td>\n",
       "      <td>1</td>\n",
       "      <td>101348.88</td>\n",
       "      <td>1</td>\n",
       "    </tr>\n",
       "    <tr>\n",
       "      <th>1</th>\n",
       "      <td>2</td>\n",
       "      <td>15647311</td>\n",
       "      <td>Hill</td>\n",
       "      <td>608</td>\n",
       "      <td>Spain</td>\n",
       "      <td>Female</td>\n",
       "      <td>41</td>\n",
       "      <td>1</td>\n",
       "      <td>83807.86</td>\n",
       "      <td>1</td>\n",
       "      <td>0</td>\n",
       "      <td>1</td>\n",
       "      <td>112542.58</td>\n",
       "      <td>0</td>\n",
       "    </tr>\n",
       "    <tr>\n",
       "      <th>2</th>\n",
       "      <td>3</td>\n",
       "      <td>15619304</td>\n",
       "      <td>Onio</td>\n",
       "      <td>502</td>\n",
       "      <td>France</td>\n",
       "      <td>Female</td>\n",
       "      <td>42</td>\n",
       "      <td>8</td>\n",
       "      <td>159660.80</td>\n",
       "      <td>3</td>\n",
       "      <td>1</td>\n",
       "      <td>0</td>\n",
       "      <td>113931.57</td>\n",
       "      <td>1</td>\n",
       "    </tr>\n",
       "    <tr>\n",
       "      <th>3</th>\n",
       "      <td>4</td>\n",
       "      <td>15701354</td>\n",
       "      <td>Boni</td>\n",
       "      <td>699</td>\n",
       "      <td>France</td>\n",
       "      <td>Female</td>\n",
       "      <td>39</td>\n",
       "      <td>1</td>\n",
       "      <td>0.00</td>\n",
       "      <td>2</td>\n",
       "      <td>0</td>\n",
       "      <td>0</td>\n",
       "      <td>93826.63</td>\n",
       "      <td>0</td>\n",
       "    </tr>\n",
       "    <tr>\n",
       "      <th>4</th>\n",
       "      <td>5</td>\n",
       "      <td>15737888</td>\n",
       "      <td>Mitchell</td>\n",
       "      <td>850</td>\n",
       "      <td>Spain</td>\n",
       "      <td>Female</td>\n",
       "      <td>43</td>\n",
       "      <td>2</td>\n",
       "      <td>125510.82</td>\n",
       "      <td>1</td>\n",
       "      <td>1</td>\n",
       "      <td>1</td>\n",
       "      <td>79084.10</td>\n",
       "      <td>0</td>\n",
       "    </tr>\n",
       "  </tbody>\n",
       "</table>\n",
       "</div>"
      ],
      "text/plain": [
       "   RowNumber  CustomerId   Surname  CreditScore Geography  Gender  Age  \\\n",
       "0          1    15634602  Hargrave          619    France  Female   42   \n",
       "1          2    15647311      Hill          608     Spain  Female   41   \n",
       "2          3    15619304      Onio          502    France  Female   42   \n",
       "3          4    15701354      Boni          699    France  Female   39   \n",
       "4          5    15737888  Mitchell          850     Spain  Female   43   \n",
       "\n",
       "   Tenure    Balance  NumOfProducts  HasCrCard  IsActiveMember  \\\n",
       "0       2       0.00              1          1               1   \n",
       "1       1   83807.86              1          0               1   \n",
       "2       8  159660.80              3          1               0   \n",
       "3       1       0.00              2          0               0   \n",
       "4       2  125510.82              1          1               1   \n",
       "\n",
       "   EstimatedSalary  Exited  \n",
       "0        101348.88       1  \n",
       "1        112542.58       0  \n",
       "2        113931.57       1  \n",
       "3         93826.63       0  \n",
       "4         79084.10       0  "
      ]
     },
     "execution_count": 3,
     "metadata": {},
     "output_type": "execute_result"
    }
   ],
   "source": [
    "df.head(5)"
   ]
  },
  {
   "cell_type": "code",
   "execution_count": 4,
   "id": "d71b9bdd",
   "metadata": {
    "execution": {
     "iopub.execute_input": "2024-12-21T07:55:58.010541Z",
     "iopub.status.busy": "2024-12-21T07:55:58.010107Z",
     "iopub.status.idle": "2024-12-21T07:55:58.017888Z",
     "shell.execute_reply": "2024-12-21T07:55:58.016762Z"
    },
    "papermill": {
     "duration": 0.019238,
     "end_time": "2024-12-21T07:55:58.019845",
     "exception": false,
     "start_time": "2024-12-21T07:55:58.000607",
     "status": "completed"
    },
    "tags": []
   },
   "outputs": [
    {
     "data": {
      "text/plain": [
       "Index(['RowNumber', 'CustomerId', 'Surname', 'CreditScore', 'Geography',\n",
       "       'Gender', 'Age', 'Tenure', 'Balance', 'NumOfProducts', 'HasCrCard',\n",
       "       'IsActiveMember', 'EstimatedSalary', 'Exited'],\n",
       "      dtype='object')"
      ]
     },
     "execution_count": 4,
     "metadata": {},
     "output_type": "execute_result"
    }
   ],
   "source": [
    "df.columns"
   ]
  },
  {
   "cell_type": "code",
   "execution_count": 5,
   "id": "bfe08d93",
   "metadata": {
    "execution": {
     "iopub.execute_input": "2024-12-21T07:55:58.038519Z",
     "iopub.status.busy": "2024-12-21T07:55:58.038130Z",
     "iopub.status.idle": "2024-12-21T07:55:58.050630Z",
     "shell.execute_reply": "2024-12-21T07:55:58.049522Z"
    },
    "papermill": {
     "duration": 0.023441,
     "end_time": "2024-12-21T07:55:58.052480",
     "exception": false,
     "start_time": "2024-12-21T07:55:58.029039",
     "status": "completed"
    },
    "tags": []
   },
   "outputs": [],
   "source": [
    "df.drop(columns=['RowNumber', 'CustomerId', 'Surname'],inplace = True)"
   ]
  },
  {
   "cell_type": "code",
   "execution_count": 6,
   "id": "dd75db79",
   "metadata": {
    "execution": {
     "iopub.execute_input": "2024-12-21T07:55:58.071435Z",
     "iopub.status.busy": "2024-12-21T07:55:58.071045Z",
     "iopub.status.idle": "2024-12-21T07:55:58.084898Z",
     "shell.execute_reply": "2024-12-21T07:55:58.083707Z"
    },
    "papermill": {
     "duration": 0.025147,
     "end_time": "2024-12-21T07:55:58.086721",
     "exception": false,
     "start_time": "2024-12-21T07:55:58.061574",
     "status": "completed"
    },
    "tags": []
   },
   "outputs": [
    {
     "data": {
      "text/html": [
       "<div>\n",
       "<style scoped>\n",
       "    .dataframe tbody tr th:only-of-type {\n",
       "        vertical-align: middle;\n",
       "    }\n",
       "\n",
       "    .dataframe tbody tr th {\n",
       "        vertical-align: top;\n",
       "    }\n",
       "\n",
       "    .dataframe thead th {\n",
       "        text-align: right;\n",
       "    }\n",
       "</style>\n",
       "<table border=\"1\" class=\"dataframe\">\n",
       "  <thead>\n",
       "    <tr style=\"text-align: right;\">\n",
       "      <th></th>\n",
       "      <th>CreditScore</th>\n",
       "      <th>Geography</th>\n",
       "      <th>Gender</th>\n",
       "      <th>Age</th>\n",
       "      <th>Tenure</th>\n",
       "      <th>Balance</th>\n",
       "      <th>NumOfProducts</th>\n",
       "      <th>HasCrCard</th>\n",
       "      <th>IsActiveMember</th>\n",
       "      <th>EstimatedSalary</th>\n",
       "      <th>Exited</th>\n",
       "    </tr>\n",
       "  </thead>\n",
       "  <tbody>\n",
       "    <tr>\n",
       "      <th>0</th>\n",
       "      <td>619</td>\n",
       "      <td>France</td>\n",
       "      <td>Female</td>\n",
       "      <td>42</td>\n",
       "      <td>2</td>\n",
       "      <td>0.00</td>\n",
       "      <td>1</td>\n",
       "      <td>1</td>\n",
       "      <td>1</td>\n",
       "      <td>101348.88</td>\n",
       "      <td>1</td>\n",
       "    </tr>\n",
       "    <tr>\n",
       "      <th>1</th>\n",
       "      <td>608</td>\n",
       "      <td>Spain</td>\n",
       "      <td>Female</td>\n",
       "      <td>41</td>\n",
       "      <td>1</td>\n",
       "      <td>83807.86</td>\n",
       "      <td>1</td>\n",
       "      <td>0</td>\n",
       "      <td>1</td>\n",
       "      <td>112542.58</td>\n",
       "      <td>0</td>\n",
       "    </tr>\n",
       "    <tr>\n",
       "      <th>2</th>\n",
       "      <td>502</td>\n",
       "      <td>France</td>\n",
       "      <td>Female</td>\n",
       "      <td>42</td>\n",
       "      <td>8</td>\n",
       "      <td>159660.80</td>\n",
       "      <td>3</td>\n",
       "      <td>1</td>\n",
       "      <td>0</td>\n",
       "      <td>113931.57</td>\n",
       "      <td>1</td>\n",
       "    </tr>\n",
       "    <tr>\n",
       "      <th>3</th>\n",
       "      <td>699</td>\n",
       "      <td>France</td>\n",
       "      <td>Female</td>\n",
       "      <td>39</td>\n",
       "      <td>1</td>\n",
       "      <td>0.00</td>\n",
       "      <td>2</td>\n",
       "      <td>0</td>\n",
       "      <td>0</td>\n",
       "      <td>93826.63</td>\n",
       "      <td>0</td>\n",
       "    </tr>\n",
       "    <tr>\n",
       "      <th>4</th>\n",
       "      <td>850</td>\n",
       "      <td>Spain</td>\n",
       "      <td>Female</td>\n",
       "      <td>43</td>\n",
       "      <td>2</td>\n",
       "      <td>125510.82</td>\n",
       "      <td>1</td>\n",
       "      <td>1</td>\n",
       "      <td>1</td>\n",
       "      <td>79084.10</td>\n",
       "      <td>0</td>\n",
       "    </tr>\n",
       "  </tbody>\n",
       "</table>\n",
       "</div>"
      ],
      "text/plain": [
       "   CreditScore Geography  Gender  Age  Tenure    Balance  NumOfProducts  \\\n",
       "0          619    France  Female   42       2       0.00              1   \n",
       "1          608     Spain  Female   41       1   83807.86              1   \n",
       "2          502    France  Female   42       8  159660.80              3   \n",
       "3          699    France  Female   39       1       0.00              2   \n",
       "4          850     Spain  Female   43       2  125510.82              1   \n",
       "\n",
       "   HasCrCard  IsActiveMember  EstimatedSalary  Exited  \n",
       "0          1               1        101348.88       1  \n",
       "1          0               1        112542.58       0  \n",
       "2          1               0        113931.57       1  \n",
       "3          0               0         93826.63       0  \n",
       "4          1               1         79084.10       0  "
      ]
     },
     "execution_count": 6,
     "metadata": {},
     "output_type": "execute_result"
    }
   ],
   "source": [
    "df.head()"
   ]
  },
  {
   "cell_type": "code",
   "execution_count": 7,
   "id": "471ffaca",
   "metadata": {
    "execution": {
     "iopub.execute_input": "2024-12-21T07:55:58.105785Z",
     "iopub.status.busy": "2024-12-21T07:55:58.105257Z",
     "iopub.status.idle": "2024-12-21T07:55:58.113069Z",
     "shell.execute_reply": "2024-12-21T07:55:58.111743Z"
    },
    "papermill": {
     "duration": 0.020124,
     "end_time": "2024-12-21T07:55:58.115462",
     "exception": false,
     "start_time": "2024-12-21T07:55:58.095338",
     "status": "completed"
    },
    "tags": []
   },
   "outputs": [
    {
     "data": {
      "text/plain": [
       "(10000, 11)"
      ]
     },
     "execution_count": 7,
     "metadata": {},
     "output_type": "execute_result"
    }
   ],
   "source": [
    "df.shape"
   ]
  },
  {
   "cell_type": "code",
   "execution_count": 8,
   "id": "81d4e6ba",
   "metadata": {
    "execution": {
     "iopub.execute_input": "2024-12-21T07:55:58.134766Z",
     "iopub.status.busy": "2024-12-21T07:55:58.134438Z",
     "iopub.status.idle": "2024-12-21T07:55:58.147161Z",
     "shell.execute_reply": "2024-12-21T07:55:58.146024Z"
    },
    "papermill": {
     "duration": 0.024374,
     "end_time": "2024-12-21T07:55:58.149105",
     "exception": false,
     "start_time": "2024-12-21T07:55:58.124731",
     "status": "completed"
    },
    "tags": []
   },
   "outputs": [
    {
     "data": {
      "text/plain": [
       "Gender\n",
       "Male      5457\n",
       "Female    4543\n",
       "Name: count, dtype: int64"
      ]
     },
     "execution_count": 8,
     "metadata": {},
     "output_type": "execute_result"
    }
   ],
   "source": [
    "df['Gender'].value_counts()"
   ]
  },
  {
   "cell_type": "code",
   "execution_count": 9,
   "id": "cc53f551",
   "metadata": {
    "execution": {
     "iopub.execute_input": "2024-12-21T07:55:58.167734Z",
     "iopub.status.busy": "2024-12-21T07:55:58.167326Z",
     "iopub.status.idle": "2024-12-21T07:55:58.175157Z",
     "shell.execute_reply": "2024-12-21T07:55:58.174134Z"
    },
    "papermill": {
     "duration": 0.018927,
     "end_time": "2024-12-21T07:55:58.176907",
     "exception": false,
     "start_time": "2024-12-21T07:55:58.157980",
     "status": "completed"
    },
    "tags": []
   },
   "outputs": [
    {
     "data": {
      "text/plain": [
       "Geography\n",
       "France     5014\n",
       "Germany    2509\n",
       "Spain      2477\n",
       "Name: count, dtype: int64"
      ]
     },
     "execution_count": 9,
     "metadata": {},
     "output_type": "execute_result"
    }
   ],
   "source": [
    "df['Geography'].value_counts()"
   ]
  },
  {
   "cell_type": "code",
   "execution_count": 10,
   "id": "3b629f06",
   "metadata": {
    "execution": {
     "iopub.execute_input": "2024-12-21T07:55:58.195745Z",
     "iopub.status.busy": "2024-12-21T07:55:58.195365Z",
     "iopub.status.idle": "2024-12-21T07:55:58.208877Z",
     "shell.execute_reply": "2024-12-21T07:55:58.207715Z"
    },
    "papermill": {
     "duration": 0.025128,
     "end_time": "2024-12-21T07:55:58.210857",
     "exception": false,
     "start_time": "2024-12-21T07:55:58.185729",
     "status": "completed"
    },
    "tags": []
   },
   "outputs": [],
   "source": [
    "df = pd.get_dummies(df,columns = ['Geography','Gender'],drop_first = True)"
   ]
  },
  {
   "cell_type": "code",
   "execution_count": 11,
   "id": "39b1b2b9",
   "metadata": {
    "execution": {
     "iopub.execute_input": "2024-12-21T07:55:58.229782Z",
     "iopub.status.busy": "2024-12-21T07:55:58.229353Z",
     "iopub.status.idle": "2024-12-21T07:55:58.243350Z",
     "shell.execute_reply": "2024-12-21T07:55:58.242214Z"
    },
    "papermill": {
     "duration": 0.025534,
     "end_time": "2024-12-21T07:55:58.245284",
     "exception": false,
     "start_time": "2024-12-21T07:55:58.219750",
     "status": "completed"
    },
    "tags": []
   },
   "outputs": [
    {
     "data": {
      "text/html": [
       "<div>\n",
       "<style scoped>\n",
       "    .dataframe tbody tr th:only-of-type {\n",
       "        vertical-align: middle;\n",
       "    }\n",
       "\n",
       "    .dataframe tbody tr th {\n",
       "        vertical-align: top;\n",
       "    }\n",
       "\n",
       "    .dataframe thead th {\n",
       "        text-align: right;\n",
       "    }\n",
       "</style>\n",
       "<table border=\"1\" class=\"dataframe\">\n",
       "  <thead>\n",
       "    <tr style=\"text-align: right;\">\n",
       "      <th></th>\n",
       "      <th>CreditScore</th>\n",
       "      <th>Age</th>\n",
       "      <th>Tenure</th>\n",
       "      <th>Balance</th>\n",
       "      <th>NumOfProducts</th>\n",
       "      <th>HasCrCard</th>\n",
       "      <th>IsActiveMember</th>\n",
       "      <th>EstimatedSalary</th>\n",
       "      <th>Exited</th>\n",
       "      <th>Geography_Germany</th>\n",
       "      <th>Geography_Spain</th>\n",
       "      <th>Gender_Male</th>\n",
       "    </tr>\n",
       "  </thead>\n",
       "  <tbody>\n",
       "    <tr>\n",
       "      <th>0</th>\n",
       "      <td>619</td>\n",
       "      <td>42</td>\n",
       "      <td>2</td>\n",
       "      <td>0.00</td>\n",
       "      <td>1</td>\n",
       "      <td>1</td>\n",
       "      <td>1</td>\n",
       "      <td>101348.88</td>\n",
       "      <td>1</td>\n",
       "      <td>False</td>\n",
       "      <td>False</td>\n",
       "      <td>False</td>\n",
       "    </tr>\n",
       "    <tr>\n",
       "      <th>1</th>\n",
       "      <td>608</td>\n",
       "      <td>41</td>\n",
       "      <td>1</td>\n",
       "      <td>83807.86</td>\n",
       "      <td>1</td>\n",
       "      <td>0</td>\n",
       "      <td>1</td>\n",
       "      <td>112542.58</td>\n",
       "      <td>0</td>\n",
       "      <td>False</td>\n",
       "      <td>True</td>\n",
       "      <td>False</td>\n",
       "    </tr>\n",
       "    <tr>\n",
       "      <th>2</th>\n",
       "      <td>502</td>\n",
       "      <td>42</td>\n",
       "      <td>8</td>\n",
       "      <td>159660.80</td>\n",
       "      <td>3</td>\n",
       "      <td>1</td>\n",
       "      <td>0</td>\n",
       "      <td>113931.57</td>\n",
       "      <td>1</td>\n",
       "      <td>False</td>\n",
       "      <td>False</td>\n",
       "      <td>False</td>\n",
       "    </tr>\n",
       "    <tr>\n",
       "      <th>3</th>\n",
       "      <td>699</td>\n",
       "      <td>39</td>\n",
       "      <td>1</td>\n",
       "      <td>0.00</td>\n",
       "      <td>2</td>\n",
       "      <td>0</td>\n",
       "      <td>0</td>\n",
       "      <td>93826.63</td>\n",
       "      <td>0</td>\n",
       "      <td>False</td>\n",
       "      <td>False</td>\n",
       "      <td>False</td>\n",
       "    </tr>\n",
       "    <tr>\n",
       "      <th>4</th>\n",
       "      <td>850</td>\n",
       "      <td>43</td>\n",
       "      <td>2</td>\n",
       "      <td>125510.82</td>\n",
       "      <td>1</td>\n",
       "      <td>1</td>\n",
       "      <td>1</td>\n",
       "      <td>79084.10</td>\n",
       "      <td>0</td>\n",
       "      <td>False</td>\n",
       "      <td>True</td>\n",
       "      <td>False</td>\n",
       "    </tr>\n",
       "  </tbody>\n",
       "</table>\n",
       "</div>"
      ],
      "text/plain": [
       "   CreditScore  Age  Tenure    Balance  NumOfProducts  HasCrCard  \\\n",
       "0          619   42       2       0.00              1          1   \n",
       "1          608   41       1   83807.86              1          0   \n",
       "2          502   42       8  159660.80              3          1   \n",
       "3          699   39       1       0.00              2          0   \n",
       "4          850   43       2  125510.82              1          1   \n",
       "\n",
       "   IsActiveMember  EstimatedSalary  Exited  Geography_Germany  \\\n",
       "0               1        101348.88       1              False   \n",
       "1               1        112542.58       0              False   \n",
       "2               0        113931.57       1              False   \n",
       "3               0         93826.63       0              False   \n",
       "4               1         79084.10       0              False   \n",
       "\n",
       "   Geography_Spain  Gender_Male  \n",
       "0            False        False  \n",
       "1             True        False  \n",
       "2            False        False  \n",
       "3            False        False  \n",
       "4             True        False  "
      ]
     },
     "execution_count": 11,
     "metadata": {},
     "output_type": "execute_result"
    }
   ],
   "source": [
    "df.head(5)"
   ]
  },
  {
   "cell_type": "code",
   "execution_count": 12,
   "id": "689a1130",
   "metadata": {
    "execution": {
     "iopub.execute_input": "2024-12-21T07:55:58.267194Z",
     "iopub.status.busy": "2024-12-21T07:55:58.266755Z",
     "iopub.status.idle": "2024-12-21T07:55:58.274471Z",
     "shell.execute_reply": "2024-12-21T07:55:58.273279Z"
    },
    "papermill": {
     "duration": 0.020692,
     "end_time": "2024-12-21T07:55:58.276509",
     "exception": false,
     "start_time": "2024-12-21T07:55:58.255817",
     "status": "completed"
    },
    "tags": []
   },
   "outputs": [
    {
     "data": {
      "text/plain": [
       "(10000, 12)"
      ]
     },
     "execution_count": 12,
     "metadata": {},
     "output_type": "execute_result"
    }
   ],
   "source": [
    "df.shape"
   ]
  },
  {
   "cell_type": "code",
   "execution_count": 13,
   "id": "b3270e97",
   "metadata": {
    "execution": {
     "iopub.execute_input": "2024-12-21T07:55:58.297425Z",
     "iopub.status.busy": "2024-12-21T07:55:58.297004Z",
     "iopub.status.idle": "2024-12-21T07:55:58.309865Z",
     "shell.execute_reply": "2024-12-21T07:55:58.308657Z"
    },
    "papermill": {
     "duration": 0.025892,
     "end_time": "2024-12-21T07:55:58.311850",
     "exception": false,
     "start_time": "2024-12-21T07:55:58.285958",
     "status": "completed"
    },
    "tags": []
   },
   "outputs": [
    {
     "data": {
      "text/plain": [
       "0"
      ]
     },
     "execution_count": 13,
     "metadata": {},
     "output_type": "execute_result"
    }
   ],
   "source": [
    "df.duplicated().sum()"
   ]
  },
  {
   "cell_type": "code",
   "execution_count": 14,
   "id": "f374ce7d",
   "metadata": {
    "execution": {
     "iopub.execute_input": "2024-12-21T07:55:58.332726Z",
     "iopub.status.busy": "2024-12-21T07:55:58.332121Z",
     "iopub.status.idle": "2024-12-21T07:55:58.349403Z",
     "shell.execute_reply": "2024-12-21T07:55:58.347911Z"
    },
    "papermill": {
     "duration": 0.03014,
     "end_time": "2024-12-21T07:55:58.351530",
     "exception": false,
     "start_time": "2024-12-21T07:55:58.321390",
     "status": "completed"
    },
    "tags": []
   },
   "outputs": [
    {
     "name": "stdout",
     "output_type": "stream",
     "text": [
      "<class 'pandas.core.frame.DataFrame'>\n",
      "RangeIndex: 10000 entries, 0 to 9999\n",
      "Data columns (total 12 columns):\n",
      " #   Column             Non-Null Count  Dtype  \n",
      "---  ------             --------------  -----  \n",
      " 0   CreditScore        10000 non-null  int64  \n",
      " 1   Age                10000 non-null  int64  \n",
      " 2   Tenure             10000 non-null  int64  \n",
      " 3   Balance            10000 non-null  float64\n",
      " 4   NumOfProducts      10000 non-null  int64  \n",
      " 5   HasCrCard          10000 non-null  int64  \n",
      " 6   IsActiveMember     10000 non-null  int64  \n",
      " 7   EstimatedSalary    10000 non-null  float64\n",
      " 8   Exited             10000 non-null  int64  \n",
      " 9   Geography_Germany  10000 non-null  bool   \n",
      " 10  Geography_Spain    10000 non-null  bool   \n",
      " 11  Gender_Male        10000 non-null  bool   \n",
      "dtypes: bool(3), float64(2), int64(7)\n",
      "memory usage: 732.5 KB\n"
     ]
    }
   ],
   "source": [
    "df.info()"
   ]
  },
  {
   "cell_type": "code",
   "execution_count": 15,
   "id": "ed68617f",
   "metadata": {
    "execution": {
     "iopub.execute_input": "2024-12-21T07:55:58.372180Z",
     "iopub.status.busy": "2024-12-21T07:55:58.371790Z",
     "iopub.status.idle": "2024-12-21T07:55:58.377494Z",
     "shell.execute_reply": "2024-12-21T07:55:58.376409Z"
    },
    "papermill": {
     "duration": 0.018245,
     "end_time": "2024-12-21T07:55:58.379621",
     "exception": false,
     "start_time": "2024-12-21T07:55:58.361376",
     "status": "completed"
    },
    "tags": []
   },
   "outputs": [],
   "source": [
    "X = df.drop(columns = ['Exited'])"
   ]
  },
  {
   "cell_type": "code",
   "execution_count": 16,
   "id": "a749d865",
   "metadata": {
    "execution": {
     "iopub.execute_input": "2024-12-21T07:55:58.399734Z",
     "iopub.status.busy": "2024-12-21T07:55:58.399363Z",
     "iopub.status.idle": "2024-12-21T07:55:58.403727Z",
     "shell.execute_reply": "2024-12-21T07:55:58.402726Z"
    },
    "papermill": {
     "duration": 0.016414,
     "end_time": "2024-12-21T07:55:58.405621",
     "exception": false,
     "start_time": "2024-12-21T07:55:58.389207",
     "status": "completed"
    },
    "tags": []
   },
   "outputs": [],
   "source": [
    "y = df['Exited'].values"
   ]
  },
  {
   "cell_type": "code",
   "execution_count": 17,
   "id": "43b3ab3f",
   "metadata": {
    "execution": {
     "iopub.execute_input": "2024-12-21T07:55:58.426169Z",
     "iopub.status.busy": "2024-12-21T07:55:58.425713Z",
     "iopub.status.idle": "2024-12-21T07:55:59.997513Z",
     "shell.execute_reply": "2024-12-21T07:55:59.996228Z"
    },
    "papermill": {
     "duration": 1.584409,
     "end_time": "2024-12-21T07:55:59.999876",
     "exception": false,
     "start_time": "2024-12-21T07:55:58.415467",
     "status": "completed"
    },
    "tags": []
   },
   "outputs": [],
   "source": [
    "from sklearn.model_selection import train_test_split"
   ]
  },
  {
   "cell_type": "code",
   "execution_count": 18,
   "id": "e980ac02",
   "metadata": {
    "execution": {
     "iopub.execute_input": "2024-12-21T07:56:00.021815Z",
     "iopub.status.busy": "2024-12-21T07:56:00.021092Z",
     "iopub.status.idle": "2024-12-21T07:56:00.033495Z",
     "shell.execute_reply": "2024-12-21T07:56:00.032174Z"
    },
    "papermill": {
     "duration": 0.025306,
     "end_time": "2024-12-21T07:56:00.035949",
     "exception": false,
     "start_time": "2024-12-21T07:56:00.010643",
     "status": "completed"
    },
    "tags": []
   },
   "outputs": [],
   "source": [
    "X_train,X_test,y_train,y_test = train_test_split(X,y,test_size = 0.2)"
   ]
  },
  {
   "cell_type": "code",
   "execution_count": 19,
   "id": "f7b00b0b",
   "metadata": {
    "execution": {
     "iopub.execute_input": "2024-12-21T07:56:00.058413Z",
     "iopub.status.busy": "2024-12-21T07:56:00.057838Z",
     "iopub.status.idle": "2024-12-21T07:56:00.079396Z",
     "shell.execute_reply": "2024-12-21T07:56:00.078001Z"
    },
    "papermill": {
     "duration": 0.034983,
     "end_time": "2024-12-21T07:56:00.081694",
     "exception": false,
     "start_time": "2024-12-21T07:56:00.046711",
     "status": "completed"
    },
    "tags": []
   },
   "outputs": [
    {
     "data": {
      "text/html": [
       "<div>\n",
       "<style scoped>\n",
       "    .dataframe tbody tr th:only-of-type {\n",
       "        vertical-align: middle;\n",
       "    }\n",
       "\n",
       "    .dataframe tbody tr th {\n",
       "        vertical-align: top;\n",
       "    }\n",
       "\n",
       "    .dataframe thead th {\n",
       "        text-align: right;\n",
       "    }\n",
       "</style>\n",
       "<table border=\"1\" class=\"dataframe\">\n",
       "  <thead>\n",
       "    <tr style=\"text-align: right;\">\n",
       "      <th></th>\n",
       "      <th>CreditScore</th>\n",
       "      <th>Age</th>\n",
       "      <th>Tenure</th>\n",
       "      <th>Balance</th>\n",
       "      <th>NumOfProducts</th>\n",
       "      <th>HasCrCard</th>\n",
       "      <th>IsActiveMember</th>\n",
       "      <th>EstimatedSalary</th>\n",
       "      <th>Geography_Germany</th>\n",
       "      <th>Geography_Spain</th>\n",
       "      <th>Gender_Male</th>\n",
       "    </tr>\n",
       "  </thead>\n",
       "  <tbody>\n",
       "    <tr>\n",
       "      <th>650</th>\n",
       "      <td>629</td>\n",
       "      <td>49</td>\n",
       "      <td>4</td>\n",
       "      <td>0.00</td>\n",
       "      <td>2</td>\n",
       "      <td>1</td>\n",
       "      <td>1</td>\n",
       "      <td>196335.48</td>\n",
       "      <td>False</td>\n",
       "      <td>False</td>\n",
       "      <td>False</td>\n",
       "    </tr>\n",
       "    <tr>\n",
       "      <th>9960</th>\n",
       "      <td>795</td>\n",
       "      <td>33</td>\n",
       "      <td>9</td>\n",
       "      <td>104552.72</td>\n",
       "      <td>1</td>\n",
       "      <td>1</td>\n",
       "      <td>1</td>\n",
       "      <td>120853.83</td>\n",
       "      <td>True</td>\n",
       "      <td>False</td>\n",
       "      <td>False</td>\n",
       "    </tr>\n",
       "    <tr>\n",
       "      <th>977</th>\n",
       "      <td>520</td>\n",
       "      <td>38</td>\n",
       "      <td>4</td>\n",
       "      <td>0.00</td>\n",
       "      <td>2</td>\n",
       "      <td>1</td>\n",
       "      <td>0</td>\n",
       "      <td>56388.63</td>\n",
       "      <td>False</td>\n",
       "      <td>False</td>\n",
       "      <td>False</td>\n",
       "    </tr>\n",
       "    <tr>\n",
       "      <th>2111</th>\n",
       "      <td>642</td>\n",
       "      <td>25</td>\n",
       "      <td>7</td>\n",
       "      <td>0.00</td>\n",
       "      <td>2</td>\n",
       "      <td>1</td>\n",
       "      <td>0</td>\n",
       "      <td>102083.78</td>\n",
       "      <td>False</td>\n",
       "      <td>False</td>\n",
       "      <td>True</td>\n",
       "    </tr>\n",
       "    <tr>\n",
       "      <th>9557</th>\n",
       "      <td>655</td>\n",
       "      <td>67</td>\n",
       "      <td>6</td>\n",
       "      <td>148363.38</td>\n",
       "      <td>1</td>\n",
       "      <td>1</td>\n",
       "      <td>1</td>\n",
       "      <td>186995.17</td>\n",
       "      <td>True</td>\n",
       "      <td>False</td>\n",
       "      <td>True</td>\n",
       "    </tr>\n",
       "  </tbody>\n",
       "</table>\n",
       "</div>"
      ],
      "text/plain": [
       "      CreditScore  Age  Tenure    Balance  NumOfProducts  HasCrCard  \\\n",
       "650           629   49       4       0.00              2          1   \n",
       "9960          795   33       9  104552.72              1          1   \n",
       "977           520   38       4       0.00              2          1   \n",
       "2111          642   25       7       0.00              2          1   \n",
       "9557          655   67       6  148363.38              1          1   \n",
       "\n",
       "      IsActiveMember  EstimatedSalary  Geography_Germany  Geography_Spain  \\\n",
       "650                1        196335.48              False            False   \n",
       "9960               1        120853.83               True            False   \n",
       "977                0         56388.63              False            False   \n",
       "2111               0        102083.78              False            False   \n",
       "9557               1        186995.17               True            False   \n",
       "\n",
       "      Gender_Male  \n",
       "650         False  \n",
       "9960        False  \n",
       "977         False  \n",
       "2111         True  \n",
       "9557         True  "
      ]
     },
     "execution_count": 19,
     "metadata": {},
     "output_type": "execute_result"
    }
   ],
   "source": [
    "X_train.head()"
   ]
  },
  {
   "cell_type": "code",
   "execution_count": 20,
   "id": "27aea88e",
   "metadata": {
    "execution": {
     "iopub.execute_input": "2024-12-21T07:56:00.106292Z",
     "iopub.status.busy": "2024-12-21T07:56:00.105342Z",
     "iopub.status.idle": "2024-12-21T07:56:00.134405Z",
     "shell.execute_reply": "2024-12-21T07:56:00.132550Z"
    },
    "papermill": {
     "duration": 0.044079,
     "end_time": "2024-12-21T07:56:00.136969",
     "exception": false,
     "start_time": "2024-12-21T07:56:00.092890",
     "status": "completed"
    },
    "tags": []
   },
   "outputs": [],
   "source": [
    "from sklearn.preprocessing import StandardScaler\n",
    "Scaler = StandardScaler()\n",
    "X_train_scaled = Scaler.fit_transform(X_train)\n",
    "X_test_scaled = Scaler.transform(X_test)\n"
   ]
  },
  {
   "cell_type": "code",
   "execution_count": 21,
   "id": "f9ed8fae",
   "metadata": {
    "execution": {
     "iopub.execute_input": "2024-12-21T07:56:00.160825Z",
     "iopub.status.busy": "2024-12-21T07:56:00.160051Z",
     "iopub.status.idle": "2024-12-21T07:56:10.273832Z",
     "shell.execute_reply": "2024-12-21T07:56:10.272697Z"
    },
    "papermill": {
     "duration": 10.128173,
     "end_time": "2024-12-21T07:56:10.275714",
     "exception": false,
     "start_time": "2024-12-21T07:56:00.147541",
     "status": "completed"
    },
    "tags": []
   },
   "outputs": [],
   "source": [
    "import tensorflow\n",
    "from tensorflow import keras\n",
    "from keras import Sequential\n",
    "from keras.layers import Dense"
   ]
  },
  {
   "cell_type": "code",
   "execution_count": 22,
   "id": "6042070b",
   "metadata": {
    "execution": {
     "iopub.execute_input": "2024-12-21T07:56:10.297864Z",
     "iopub.status.busy": "2024-12-21T07:56:10.297184Z",
     "iopub.status.idle": "2024-12-21T07:56:10.305772Z",
     "shell.execute_reply": "2024-12-21T07:56:10.304163Z"
    },
    "papermill": {
     "duration": 0.021317,
     "end_time": "2024-12-21T07:56:10.307815",
     "exception": false,
     "start_time": "2024-12-21T07:56:10.286498",
     "status": "completed"
    },
    "tags": []
   },
   "outputs": [],
   "source": [
    "model = Sequential()"
   ]
  },
  {
   "cell_type": "code",
   "execution_count": 23,
   "id": "c778db48",
   "metadata": {
    "execution": {
     "iopub.execute_input": "2024-12-21T07:56:10.328334Z",
     "iopub.status.busy": "2024-12-21T07:56:10.327822Z",
     "iopub.status.idle": "2024-12-21T07:56:10.342787Z",
     "shell.execute_reply": "2024-12-21T07:56:10.341605Z"
    },
    "papermill": {
     "duration": 0.027355,
     "end_time": "2024-12-21T07:56:10.344762",
     "exception": false,
     "start_time": "2024-12-21T07:56:10.317407",
     "status": "completed"
    },
    "tags": []
   },
   "outputs": [
    {
     "data": {
      "text/html": [
       "<div>\n",
       "<style scoped>\n",
       "    .dataframe tbody tr th:only-of-type {\n",
       "        vertical-align: middle;\n",
       "    }\n",
       "\n",
       "    .dataframe tbody tr th {\n",
       "        vertical-align: top;\n",
       "    }\n",
       "\n",
       "    .dataframe thead th {\n",
       "        text-align: right;\n",
       "    }\n",
       "</style>\n",
       "<table border=\"1\" class=\"dataframe\">\n",
       "  <thead>\n",
       "    <tr style=\"text-align: right;\">\n",
       "      <th></th>\n",
       "      <th>CreditScore</th>\n",
       "      <th>Age</th>\n",
       "      <th>Tenure</th>\n",
       "      <th>Balance</th>\n",
       "      <th>NumOfProducts</th>\n",
       "      <th>HasCrCard</th>\n",
       "      <th>IsActiveMember</th>\n",
       "      <th>EstimatedSalary</th>\n",
       "      <th>Exited</th>\n",
       "      <th>Geography_Germany</th>\n",
       "      <th>Geography_Spain</th>\n",
       "      <th>Gender_Male</th>\n",
       "    </tr>\n",
       "  </thead>\n",
       "  <tbody>\n",
       "    <tr>\n",
       "      <th>0</th>\n",
       "      <td>619</td>\n",
       "      <td>42</td>\n",
       "      <td>2</td>\n",
       "      <td>0.00</td>\n",
       "      <td>1</td>\n",
       "      <td>1</td>\n",
       "      <td>1</td>\n",
       "      <td>101348.88</td>\n",
       "      <td>1</td>\n",
       "      <td>False</td>\n",
       "      <td>False</td>\n",
       "      <td>False</td>\n",
       "    </tr>\n",
       "    <tr>\n",
       "      <th>1</th>\n",
       "      <td>608</td>\n",
       "      <td>41</td>\n",
       "      <td>1</td>\n",
       "      <td>83807.86</td>\n",
       "      <td>1</td>\n",
       "      <td>0</td>\n",
       "      <td>1</td>\n",
       "      <td>112542.58</td>\n",
       "      <td>0</td>\n",
       "      <td>False</td>\n",
       "      <td>True</td>\n",
       "      <td>False</td>\n",
       "    </tr>\n",
       "  </tbody>\n",
       "</table>\n",
       "</div>"
      ],
      "text/plain": [
       "   CreditScore  Age  Tenure   Balance  NumOfProducts  HasCrCard  \\\n",
       "0          619   42       2      0.00              1          1   \n",
       "1          608   41       1  83807.86              1          0   \n",
       "\n",
       "   IsActiveMember  EstimatedSalary  Exited  Geography_Germany  \\\n",
       "0               1        101348.88       1              False   \n",
       "1               1        112542.58       0              False   \n",
       "\n",
       "   Geography_Spain  Gender_Male  \n",
       "0            False        False  \n",
       "1             True        False  "
      ]
     },
     "execution_count": 23,
     "metadata": {},
     "output_type": "execute_result"
    }
   ],
   "source": [
    "df.head(2)"
   ]
  },
  {
   "cell_type": "code",
   "execution_count": 24,
   "id": "ac45018c",
   "metadata": {
    "execution": {
     "iopub.execute_input": "2024-12-21T07:56:10.365588Z",
     "iopub.status.busy": "2024-12-21T07:56:10.365219Z",
     "iopub.status.idle": "2024-12-21T07:56:10.371260Z",
     "shell.execute_reply": "2024-12-21T07:56:10.370275Z"
    },
    "papermill": {
     "duration": 0.018396,
     "end_time": "2024-12-21T07:56:10.372979",
     "exception": false,
     "start_time": "2024-12-21T07:56:10.354583",
     "status": "completed"
    },
    "tags": []
   },
   "outputs": [
    {
     "data": {
      "text/plain": [
       "(10000, 12)"
      ]
     },
     "execution_count": 24,
     "metadata": {},
     "output_type": "execute_result"
    }
   ],
   "source": [
    "df.shape"
   ]
  },
  {
   "cell_type": "code",
   "execution_count": 25,
   "id": "60cf272e",
   "metadata": {
    "execution": {
     "iopub.execute_input": "2024-12-21T07:56:10.393666Z",
     "iopub.status.busy": "2024-12-21T07:56:10.393303Z",
     "iopub.status.idle": "2024-12-21T07:56:10.493955Z",
     "shell.execute_reply": "2024-12-21T07:56:10.492577Z"
    },
    "papermill": {
     "duration": 0.113158,
     "end_time": "2024-12-21T07:56:10.495918",
     "exception": false,
     "start_time": "2024-12-21T07:56:10.382760",
     "status": "completed"
    },
    "tags": []
   },
   "outputs": [
    {
     "name": "stderr",
     "output_type": "stream",
     "text": [
      "/usr/local/lib/python3.10/dist-packages/keras/src/layers/core/dense.py:87: UserWarning: Do not pass an `input_shape`/`input_dim` argument to a layer. When using Sequential models, prefer using an `Input(shape)` object as the first layer in the model instead.\n",
      "  super().__init__(activity_regularizer=activity_regularizer, **kwargs)\n"
     ]
    }
   ],
   "source": [
    "model.add(Dense(11,activation = 'sigmoid',input_dim = 11))\n",
    "model.add(Dense(11,activation = 'sigmoid'))\n",
    "model.add(Dense(1,activation = 'sigmoid'))   "
   ]
  },
  {
   "cell_type": "code",
   "execution_count": 26,
   "id": "5cfe2112",
   "metadata": {
    "execution": {
     "iopub.execute_input": "2024-12-21T07:56:10.516846Z",
     "iopub.status.busy": "2024-12-21T07:56:10.516475Z",
     "iopub.status.idle": "2024-12-21T07:56:10.535566Z",
     "shell.execute_reply": "2024-12-21T07:56:10.534211Z"
    },
    "papermill": {
     "duration": 0.031602,
     "end_time": "2024-12-21T07:56:10.537464",
     "exception": false,
     "start_time": "2024-12-21T07:56:10.505862",
     "status": "completed"
    },
    "tags": []
   },
   "outputs": [
    {
     "data": {
      "text/html": [
       "<pre style=\"white-space:pre;overflow-x:auto;line-height:normal;font-family:Menlo,'DejaVu Sans Mono',consolas,'Courier New',monospace\"><span style=\"font-weight: bold\">Model: \"sequential\"</span>\n",
       "</pre>\n"
      ],
      "text/plain": [
       "\u001b[1mModel: \"sequential\"\u001b[0m\n"
      ]
     },
     "metadata": {},
     "output_type": "display_data"
    },
    {
     "data": {
      "text/html": [
       "<pre style=\"white-space:pre;overflow-x:auto;line-height:normal;font-family:Menlo,'DejaVu Sans Mono',consolas,'Courier New',monospace\">┏━━━━━━━━━━━━━━━━━━━━━━━━━━━━━━━━━━━━━━┳━━━━━━━━━━━━━━━━━━━━━━━━━━━━━┳━━━━━━━━━━━━━━━━━┓\n",
       "┃<span style=\"font-weight: bold\"> Layer (type)                         </span>┃<span style=\"font-weight: bold\"> Output Shape                </span>┃<span style=\"font-weight: bold\">         Param # </span>┃\n",
       "┡━━━━━━━━━━━━━━━━━━━━━━━━━━━━━━━━━━━━━━╇━━━━━━━━━━━━━━━━━━━━━━━━━━━━━╇━━━━━━━━━━━━━━━━━┩\n",
       "│ dense (<span style=\"color: #0087ff; text-decoration-color: #0087ff\">Dense</span>)                        │ (<span style=\"color: #00d7ff; text-decoration-color: #00d7ff\">None</span>, <span style=\"color: #00af00; text-decoration-color: #00af00\">11</span>)                  │             <span style=\"color: #00af00; text-decoration-color: #00af00\">132</span> │\n",
       "├──────────────────────────────────────┼─────────────────────────────┼─────────────────┤\n",
       "│ dense_1 (<span style=\"color: #0087ff; text-decoration-color: #0087ff\">Dense</span>)                      │ (<span style=\"color: #00d7ff; text-decoration-color: #00d7ff\">None</span>, <span style=\"color: #00af00; text-decoration-color: #00af00\">11</span>)                  │             <span style=\"color: #00af00; text-decoration-color: #00af00\">132</span> │\n",
       "├──────────────────────────────────────┼─────────────────────────────┼─────────────────┤\n",
       "│ dense_2 (<span style=\"color: #0087ff; text-decoration-color: #0087ff\">Dense</span>)                      │ (<span style=\"color: #00d7ff; text-decoration-color: #00d7ff\">None</span>, <span style=\"color: #00af00; text-decoration-color: #00af00\">1</span>)                   │              <span style=\"color: #00af00; text-decoration-color: #00af00\">12</span> │\n",
       "└──────────────────────────────────────┴─────────────────────────────┴─────────────────┘\n",
       "</pre>\n"
      ],
      "text/plain": [
       "┏━━━━━━━━━━━━━━━━━━━━━━━━━━━━━━━━━━━━━━┳━━━━━━━━━━━━━━━━━━━━━━━━━━━━━┳━━━━━━━━━━━━━━━━━┓\n",
       "┃\u001b[1m \u001b[0m\u001b[1mLayer (type)                        \u001b[0m\u001b[1m \u001b[0m┃\u001b[1m \u001b[0m\u001b[1mOutput Shape               \u001b[0m\u001b[1m \u001b[0m┃\u001b[1m \u001b[0m\u001b[1m        Param #\u001b[0m\u001b[1m \u001b[0m┃\n",
       "┡━━━━━━━━━━━━━━━━━━━━━━━━━━━━━━━━━━━━━━╇━━━━━━━━━━━━━━━━━━━━━━━━━━━━━╇━━━━━━━━━━━━━━━━━┩\n",
       "│ dense (\u001b[38;5;33mDense\u001b[0m)                        │ (\u001b[38;5;45mNone\u001b[0m, \u001b[38;5;34m11\u001b[0m)                  │             \u001b[38;5;34m132\u001b[0m │\n",
       "├──────────────────────────────────────┼─────────────────────────────┼─────────────────┤\n",
       "│ dense_1 (\u001b[38;5;33mDense\u001b[0m)                      │ (\u001b[38;5;45mNone\u001b[0m, \u001b[38;5;34m11\u001b[0m)                  │             \u001b[38;5;34m132\u001b[0m │\n",
       "├──────────────────────────────────────┼─────────────────────────────┼─────────────────┤\n",
       "│ dense_2 (\u001b[38;5;33mDense\u001b[0m)                      │ (\u001b[38;5;45mNone\u001b[0m, \u001b[38;5;34m1\u001b[0m)                   │              \u001b[38;5;34m12\u001b[0m │\n",
       "└──────────────────────────────────────┴─────────────────────────────┴─────────────────┘\n"
      ]
     },
     "metadata": {},
     "output_type": "display_data"
    },
    {
     "data": {
      "text/html": [
       "<pre style=\"white-space:pre;overflow-x:auto;line-height:normal;font-family:Menlo,'DejaVu Sans Mono',consolas,'Courier New',monospace\"><span style=\"font-weight: bold\"> Total params: </span><span style=\"color: #00af00; text-decoration-color: #00af00\">276</span> (1.08 KB)\n",
       "</pre>\n"
      ],
      "text/plain": [
       "\u001b[1m Total params: \u001b[0m\u001b[38;5;34m276\u001b[0m (1.08 KB)\n"
      ]
     },
     "metadata": {},
     "output_type": "display_data"
    },
    {
     "data": {
      "text/html": [
       "<pre style=\"white-space:pre;overflow-x:auto;line-height:normal;font-family:Menlo,'DejaVu Sans Mono',consolas,'Courier New',monospace\"><span style=\"font-weight: bold\"> Trainable params: </span><span style=\"color: #00af00; text-decoration-color: #00af00\">276</span> (1.08 KB)\n",
       "</pre>\n"
      ],
      "text/plain": [
       "\u001b[1m Trainable params: \u001b[0m\u001b[38;5;34m276\u001b[0m (1.08 KB)\n"
      ]
     },
     "metadata": {},
     "output_type": "display_data"
    },
    {
     "data": {
      "text/html": [
       "<pre style=\"white-space:pre;overflow-x:auto;line-height:normal;font-family:Menlo,'DejaVu Sans Mono',consolas,'Courier New',monospace\"><span style=\"font-weight: bold\"> Non-trainable params: </span><span style=\"color: #00af00; text-decoration-color: #00af00\">0</span> (0.00 B)\n",
       "</pre>\n"
      ],
      "text/plain": [
       "\u001b[1m Non-trainable params: \u001b[0m\u001b[38;5;34m0\u001b[0m (0.00 B)\n"
      ]
     },
     "metadata": {},
     "output_type": "display_data"
    }
   ],
   "source": [
    "model.summary()"
   ]
  },
  {
   "cell_type": "code",
   "execution_count": 27,
   "id": "395da6c0",
   "metadata": {
    "execution": {
     "iopub.execute_input": "2024-12-21T07:56:10.560829Z",
     "iopub.status.busy": "2024-12-21T07:56:10.560381Z",
     "iopub.status.idle": "2024-12-21T07:56:10.569972Z",
     "shell.execute_reply": "2024-12-21T07:56:10.568631Z"
    },
    "papermill": {
     "duration": 0.023865,
     "end_time": "2024-12-21T07:56:10.571926",
     "exception": false,
     "start_time": "2024-12-21T07:56:10.548061",
     "status": "completed"
    },
    "tags": []
   },
   "outputs": [
    {
     "name": "stdout",
     "output_type": "stream",
     "text": [
      "# This Python 3 environment comes with many helpful analytics libraries installed\n",
      "# It is defined by the kaggle/python Docker image: https://github.com/kaggle/docker-python\n",
      "# For example, here's several helpful packages to load\n",
      "\n",
      "import numpy as np # linear algebra\n",
      "import pandas as pd # data processing, CSV file I/O (e.g. pd.read_csv)\n",
      "\n",
      "# Input data files are available in the read-only \"../input/\" directory\n",
      "# For example, running this (by clicking run or pressing Shift+Enter) will list all files under the input directory\n",
      "\n",
      "import os\n",
      "for dirname, _, filenames in os.walk('/kaggle/input'):\n",
      "    for filename in filenames:\n",
      "        print(os.path.join(dirname, filename))\n",
      "\n",
      "# You can write up to 20GB to the current directory (/kaggle/working/) that gets preserved as output when you create a version using \"Save & Run All\" \n",
      "# You can also write temporary files to /kaggle/temp/, but they won't be saved outside of the current session\n",
      "df = pd.read_csv('/kaggle/input/credit-card-customer-churn-prediction/Churn_Modelling.csv')\n",
      "df.head(5)\n",
      "df.columns\n",
      "df.drop(columns=['RowNumber', 'CustomerId', 'Surname'],inplace = True)\n",
      "df.head()\n",
      "df.shape\n",
      "df['Gender'].value_counts()\n",
      "df['Geography'].value_counts()\n",
      "df = pd.get_dummies(df,columns = ['Geography','Gender'],drop_first = True)\n",
      "df.head(5)\n",
      "df.shape\n",
      "df.duplicated().sum()\n",
      "df.info()\n",
      "X = df.drop(columns = ['Exited'])\n",
      "y = df['Exited'].values\n",
      "from sklearn.model_selection import train_test_split\n",
      "X_train,X_test,y_train,y_test = train_test_split(X,y,test_size = 0.2)\n",
      "X_train.head()\n",
      "from sklearn.preprocessing import StandardScaler\n",
      "Scaler = StandardScaler()\n",
      "X_train_scaled = Scaler.fit_transform(X_train)\n",
      "X_test_scaled = Scaler.transform(X_test)\n",
      "import tensorflow\n",
      "from tensorflow import keras\n",
      "from keras import Sequential\n",
      "from keras.layers import Dense\n",
      "model = Sequential()\n",
      "df.head(2)\n",
      "df.shape\n",
      "model.add(Dense(11,activation = 'sigmoid',input_dim = 11))\n",
      "model.add(Dense(11,activation = 'sigmoid'))\n",
      "model.add(Dense(1,activation = 'sigmoid'))\n",
      "model.summary()\n",
      "history\n"
     ]
    }
   ],
   "source": [
    "history"
   ]
  },
  {
   "cell_type": "code",
   "execution_count": 28,
   "id": "25d38b37",
   "metadata": {
    "execution": {
     "iopub.execute_input": "2024-12-21T07:56:10.594515Z",
     "iopub.status.busy": "2024-12-21T07:56:10.594115Z",
     "iopub.status.idle": "2024-12-21T07:56:10.609676Z",
     "shell.execute_reply": "2024-12-21T07:56:10.608615Z"
    },
    "papermill": {
     "duration": 0.029084,
     "end_time": "2024-12-21T07:56:10.611680",
     "exception": false,
     "start_time": "2024-12-21T07:56:10.582596",
     "status": "completed"
    },
    "tags": []
   },
   "outputs": [],
   "source": [
    "model.compile(loss = 'binary_crossentropy' , optimizer = 'Adam' ,metrics = ['accuracy'])"
   ]
  },
  {
   "cell_type": "code",
   "execution_count": 29,
   "id": "0ec3aa29",
   "metadata": {
    "execution": {
     "iopub.execute_input": "2024-12-21T07:56:10.635291Z",
     "iopub.status.busy": "2024-12-21T07:56:10.634891Z",
     "iopub.status.idle": "2024-12-21T07:56:32.183224Z",
     "shell.execute_reply": "2024-12-21T07:56:32.181994Z"
    },
    "papermill": {
     "duration": 21.563251,
     "end_time": "2024-12-21T07:56:32.185685",
     "exception": false,
     "start_time": "2024-12-21T07:56:10.622434",
     "status": "completed"
    },
    "tags": []
   },
   "outputs": [
    {
     "name": "stdout",
     "output_type": "stream",
     "text": [
      "Epoch 1/75\n",
      "\u001b[1m128/128\u001b[0m \u001b[32m━━━━━━━━━━━━━━━━━━━━\u001b[0m\u001b[37m\u001b[0m \u001b[1m2s\u001b[0m 3ms/step - accuracy: 0.8004 - loss: 0.5163 - val_accuracy: 0.7956 - val_loss: 0.5051\n",
      "Epoch 2/75\n",
      "\u001b[1m128/128\u001b[0m \u001b[32m━━━━━━━━━━━━━━━━━━━━\u001b[0m\u001b[37m\u001b[0m \u001b[1m0s\u001b[0m 2ms/step - accuracy: 0.7873 - loss: 0.5154 - val_accuracy: 0.7956 - val_loss: 0.5039\n",
      "Epoch 3/75\n",
      "\u001b[1m128/128\u001b[0m \u001b[32m━━━━━━━━━━━━━━━━━━━━\u001b[0m\u001b[37m\u001b[0m \u001b[1m0s\u001b[0m 2ms/step - accuracy: 0.7983 - loss: 0.4981 - val_accuracy: 0.7956 - val_loss: 0.5028\n",
      "Epoch 4/75\n",
      "\u001b[1m128/128\u001b[0m \u001b[32m━━━━━━━━━━━━━━━━━━━━\u001b[0m\u001b[37m\u001b[0m \u001b[1m0s\u001b[0m 2ms/step - accuracy: 0.7969 - loss: 0.4999 - val_accuracy: 0.7956 - val_loss: 0.5025\n",
      "Epoch 5/75\n",
      "\u001b[1m128/128\u001b[0m \u001b[32m━━━━━━━━━━━━━━━━━━━━\u001b[0m\u001b[37m\u001b[0m \u001b[1m0s\u001b[0m 2ms/step - accuracy: 0.7886 - loss: 0.5093 - val_accuracy: 0.7956 - val_loss: 0.5024\n",
      "Epoch 6/75\n",
      "\u001b[1m128/128\u001b[0m \u001b[32m━━━━━━━━━━━━━━━━━━━━\u001b[0m\u001b[37m\u001b[0m \u001b[1m0s\u001b[0m 2ms/step - accuracy: 0.7974 - loss: 0.4994 - val_accuracy: 0.7956 - val_loss: 0.5020\n",
      "Epoch 7/75\n",
      "\u001b[1m128/128\u001b[0m \u001b[32m━━━━━━━━━━━━━━━━━━━━\u001b[0m\u001b[37m\u001b[0m \u001b[1m0s\u001b[0m 2ms/step - accuracy: 0.7966 - loss: 0.4989 - val_accuracy: 0.7956 - val_loss: 0.5019\n",
      "Epoch 8/75\n",
      "\u001b[1m128/128\u001b[0m \u001b[32m━━━━━━━━━━━━━━━━━━━━\u001b[0m\u001b[37m\u001b[0m \u001b[1m0s\u001b[0m 2ms/step - accuracy: 0.7936 - loss: 0.5028 - val_accuracy: 0.7956 - val_loss: 0.5018\n",
      "Epoch 9/75\n",
      "\u001b[1m128/128\u001b[0m \u001b[32m━━━━━━━━━━━━━━━━━━━━\u001b[0m\u001b[37m\u001b[0m \u001b[1m0s\u001b[0m 2ms/step - accuracy: 0.7970 - loss: 0.4985 - val_accuracy: 0.7956 - val_loss: 0.5018\n",
      "Epoch 10/75\n",
      "\u001b[1m128/128\u001b[0m \u001b[32m━━━━━━━━━━━━━━━━━━━━\u001b[0m\u001b[37m\u001b[0m \u001b[1m0s\u001b[0m 2ms/step - accuracy: 0.8031 - loss: 0.4905 - val_accuracy: 0.7956 - val_loss: 0.5019\n",
      "Epoch 11/75\n",
      "\u001b[1m128/128\u001b[0m \u001b[32m━━━━━━━━━━━━━━━━━━━━\u001b[0m\u001b[37m\u001b[0m \u001b[1m0s\u001b[0m 2ms/step - accuracy: 0.8029 - loss: 0.4900 - val_accuracy: 0.7956 - val_loss: 0.5018\n",
      "Epoch 12/75\n",
      "\u001b[1m128/128\u001b[0m \u001b[32m━━━━━━━━━━━━━━━━━━━━\u001b[0m\u001b[37m\u001b[0m \u001b[1m0s\u001b[0m 2ms/step - accuracy: 0.8028 - loss: 0.4897 - val_accuracy: 0.7956 - val_loss: 0.5020\n",
      "Epoch 13/75\n",
      "\u001b[1m128/128\u001b[0m \u001b[32m━━━━━━━━━━━━━━━━━━━━\u001b[0m\u001b[37m\u001b[0m \u001b[1m0s\u001b[0m 2ms/step - accuracy: 0.7959 - loss: 0.5002 - val_accuracy: 0.7956 - val_loss: 0.5018\n",
      "Epoch 14/75\n",
      "\u001b[1m128/128\u001b[0m \u001b[32m━━━━━━━━━━━━━━━━━━━━\u001b[0m\u001b[37m\u001b[0m \u001b[1m0s\u001b[0m 2ms/step - accuracy: 0.8028 - loss: 0.4895 - val_accuracy: 0.7956 - val_loss: 0.5018\n",
      "Epoch 15/75\n",
      "\u001b[1m128/128\u001b[0m \u001b[32m━━━━━━━━━━━━━━━━━━━━\u001b[0m\u001b[37m\u001b[0m \u001b[1m0s\u001b[0m 2ms/step - accuracy: 0.7922 - loss: 0.5028 - val_accuracy: 0.7956 - val_loss: 0.5018\n",
      "Epoch 16/75\n",
      "\u001b[1m128/128\u001b[0m \u001b[32m━━━━━━━━━━━━━━━━━━━━\u001b[0m\u001b[37m\u001b[0m \u001b[1m0s\u001b[0m 2ms/step - accuracy: 0.7976 - loss: 0.4958 - val_accuracy: 0.7956 - val_loss: 0.5015\n",
      "Epoch 17/75\n",
      "\u001b[1m128/128\u001b[0m \u001b[32m━━━━━━━━━━━━━━━━━━━━\u001b[0m\u001b[37m\u001b[0m \u001b[1m0s\u001b[0m 2ms/step - accuracy: 0.8005 - loss: 0.4929 - val_accuracy: 0.7956 - val_loss: 0.5021\n",
      "Epoch 18/75\n",
      "\u001b[1m128/128\u001b[0m \u001b[32m━━━━━━━━━━━━━━━━━━━━\u001b[0m\u001b[37m\u001b[0m \u001b[1m0s\u001b[0m 2ms/step - accuracy: 0.8036 - loss: 0.4902 - val_accuracy: 0.7956 - val_loss: 0.5015\n",
      "Epoch 19/75\n",
      "\u001b[1m128/128\u001b[0m \u001b[32m━━━━━━━━━━━━━━━━━━━━\u001b[0m\u001b[37m\u001b[0m \u001b[1m0s\u001b[0m 2ms/step - accuracy: 0.8011 - loss: 0.4895 - val_accuracy: 0.7956 - val_loss: 0.5017\n",
      "Epoch 20/75\n",
      "\u001b[1m128/128\u001b[0m \u001b[32m━━━━━━━━━━━━━━━━━━━━\u001b[0m\u001b[37m\u001b[0m \u001b[1m0s\u001b[0m 2ms/step - accuracy: 0.7980 - loss: 0.4969 - val_accuracy: 0.7956 - val_loss: 0.5013\n",
      "Epoch 21/75\n",
      "\u001b[1m128/128\u001b[0m \u001b[32m━━━━━━━━━━━━━━━━━━━━\u001b[0m\u001b[37m\u001b[0m \u001b[1m0s\u001b[0m 2ms/step - accuracy: 0.7941 - loss: 0.5019 - val_accuracy: 0.7956 - val_loss: 0.5014\n",
      "Epoch 22/75\n",
      "\u001b[1m128/128\u001b[0m \u001b[32m━━━━━━━━━━━━━━━━━━━━\u001b[0m\u001b[37m\u001b[0m \u001b[1m0s\u001b[0m 2ms/step - accuracy: 0.7903 - loss: 0.5068 - val_accuracy: 0.7956 - val_loss: 0.5016\n",
      "Epoch 23/75\n",
      "\u001b[1m128/128\u001b[0m \u001b[32m━━━━━━━━━━━━━━━━━━━━\u001b[0m\u001b[37m\u001b[0m \u001b[1m0s\u001b[0m 2ms/step - accuracy: 0.7976 - loss: 0.4958 - val_accuracy: 0.7956 - val_loss: 0.5016\n",
      "Epoch 24/75\n",
      "\u001b[1m128/128\u001b[0m \u001b[32m━━━━━━━━━━━━━━━━━━━━\u001b[0m\u001b[37m\u001b[0m \u001b[1m0s\u001b[0m 2ms/step - accuracy: 0.8020 - loss: 0.4909 - val_accuracy: 0.7956 - val_loss: 0.5017\n",
      "Epoch 25/75\n",
      "\u001b[1m128/128\u001b[0m \u001b[32m━━━━━━━━━━━━━━━━━━━━\u001b[0m\u001b[37m\u001b[0m \u001b[1m0s\u001b[0m 2ms/step - accuracy: 0.7961 - loss: 0.4980 - val_accuracy: 0.7956 - val_loss: 0.5014\n",
      "Epoch 26/75\n",
      "\u001b[1m128/128\u001b[0m \u001b[32m━━━━━━━━━━━━━━━━━━━━\u001b[0m\u001b[37m\u001b[0m \u001b[1m0s\u001b[0m 2ms/step - accuracy: 0.8010 - loss: 0.4919 - val_accuracy: 0.7956 - val_loss: 0.5015\n",
      "Epoch 27/75\n",
      "\u001b[1m128/128\u001b[0m \u001b[32m━━━━━━━━━━━━━━━━━━━━\u001b[0m\u001b[37m\u001b[0m \u001b[1m0s\u001b[0m 2ms/step - accuracy: 0.7952 - loss: 0.4984 - val_accuracy: 0.7956 - val_loss: 0.5016\n",
      "Epoch 28/75\n",
      "\u001b[1m128/128\u001b[0m \u001b[32m━━━━━━━━━━━━━━━━━━━━\u001b[0m\u001b[37m\u001b[0m \u001b[1m0s\u001b[0m 2ms/step - accuracy: 0.8003 - loss: 0.4939 - val_accuracy: 0.7956 - val_loss: 0.5014\n",
      "Epoch 29/75\n",
      "\u001b[1m128/128\u001b[0m \u001b[32m━━━━━━━━━━━━━━━━━━━━\u001b[0m\u001b[37m\u001b[0m \u001b[1m0s\u001b[0m 2ms/step - accuracy: 0.7953 - loss: 0.5034 - val_accuracy: 0.7956 - val_loss: 0.5015\n",
      "Epoch 30/75\n",
      "\u001b[1m128/128\u001b[0m \u001b[32m━━━━━━━━━━━━━━━━━━━━\u001b[0m\u001b[37m\u001b[0m \u001b[1m0s\u001b[0m 2ms/step - accuracy: 0.7942 - loss: 0.4995 - val_accuracy: 0.7956 - val_loss: 0.5015\n",
      "Epoch 31/75\n",
      "\u001b[1m128/128\u001b[0m \u001b[32m━━━━━━━━━━━━━━━━━━━━\u001b[0m\u001b[37m\u001b[0m \u001b[1m0s\u001b[0m 2ms/step - accuracy: 0.7926 - loss: 0.5045 - val_accuracy: 0.7956 - val_loss: 0.5016\n",
      "Epoch 32/75\n",
      "\u001b[1m128/128\u001b[0m \u001b[32m━━━━━━━━━━━━━━━━━━━━\u001b[0m\u001b[37m\u001b[0m \u001b[1m0s\u001b[0m 2ms/step - accuracy: 0.7952 - loss: 0.4992 - val_accuracy: 0.7956 - val_loss: 0.5016\n",
      "Epoch 33/75\n",
      "\u001b[1m128/128\u001b[0m \u001b[32m━━━━━━━━━━━━━━━━━━━━\u001b[0m\u001b[37m\u001b[0m \u001b[1m0s\u001b[0m 2ms/step - accuracy: 0.7937 - loss: 0.5026 - val_accuracy: 0.7956 - val_loss: 0.5019\n",
      "Epoch 34/75\n",
      "\u001b[1m128/128\u001b[0m \u001b[32m━━━━━━━━━━━━━━━━━━━━\u001b[0m\u001b[37m\u001b[0m \u001b[1m0s\u001b[0m 2ms/step - accuracy: 0.8037 - loss: 0.4869 - val_accuracy: 0.7956 - val_loss: 0.5016\n",
      "Epoch 35/75\n",
      "\u001b[1m128/128\u001b[0m \u001b[32m━━━━━━━━━━━━━━━━━━━━\u001b[0m\u001b[37m\u001b[0m \u001b[1m0s\u001b[0m 2ms/step - accuracy: 0.7913 - loss: 0.5073 - val_accuracy: 0.7956 - val_loss: 0.5016\n",
      "Epoch 36/75\n",
      "\u001b[1m128/128\u001b[0m \u001b[32m━━━━━━━━━━━━━━━━━━━━\u001b[0m\u001b[37m\u001b[0m \u001b[1m0s\u001b[0m 2ms/step - accuracy: 0.7961 - loss: 0.5000 - val_accuracy: 0.7956 - val_loss: 0.5017\n",
      "Epoch 37/75\n",
      "\u001b[1m128/128\u001b[0m \u001b[32m━━━━━━━━━━━━━━━━━━━━\u001b[0m\u001b[37m\u001b[0m \u001b[1m0s\u001b[0m 2ms/step - accuracy: 0.7954 - loss: 0.5007 - val_accuracy: 0.7956 - val_loss: 0.5013\n",
      "Epoch 38/75\n",
      "\u001b[1m128/128\u001b[0m \u001b[32m━━━━━━━━━━━━━━━━━━━━\u001b[0m\u001b[37m\u001b[0m \u001b[1m0s\u001b[0m 2ms/step - accuracy: 0.7904 - loss: 0.5050 - val_accuracy: 0.7956 - val_loss: 0.5015\n",
      "Epoch 39/75\n",
      "\u001b[1m128/128\u001b[0m \u001b[32m━━━━━━━━━━━━━━━━━━━━\u001b[0m\u001b[37m\u001b[0m \u001b[1m0s\u001b[0m 2ms/step - accuracy: 0.7998 - loss: 0.4934 - val_accuracy: 0.7956 - val_loss: 0.5016\n",
      "Epoch 40/75\n",
      "\u001b[1m128/128\u001b[0m \u001b[32m━━━━━━━━━━━━━━━━━━━━\u001b[0m\u001b[37m\u001b[0m \u001b[1m0s\u001b[0m 2ms/step - accuracy: 0.7876 - loss: 0.5078 - val_accuracy: 0.7956 - val_loss: 0.5016\n",
      "Epoch 41/75\n",
      "\u001b[1m128/128\u001b[0m \u001b[32m━━━━━━━━━━━━━━━━━━━━\u001b[0m\u001b[37m\u001b[0m \u001b[1m0s\u001b[0m 2ms/step - accuracy: 0.7926 - loss: 0.5013 - val_accuracy: 0.7956 - val_loss: 0.5016\n",
      "Epoch 42/75\n",
      "\u001b[1m128/128\u001b[0m \u001b[32m━━━━━━━━━━━━━━━━━━━━\u001b[0m\u001b[37m\u001b[0m \u001b[1m0s\u001b[0m 2ms/step - accuracy: 0.7964 - loss: 0.4979 - val_accuracy: 0.7956 - val_loss: 0.5015\n",
      "Epoch 43/75\n",
      "\u001b[1m128/128\u001b[0m \u001b[32m━━━━━━━━━━━━━━━━━━━━\u001b[0m\u001b[37m\u001b[0m \u001b[1m0s\u001b[0m 2ms/step - accuracy: 0.7965 - loss: 0.4964 - val_accuracy: 0.7956 - val_loss: 0.5015\n",
      "Epoch 44/75\n",
      "\u001b[1m128/128\u001b[0m \u001b[32m━━━━━━━━━━━━━━━━━━━━\u001b[0m\u001b[37m\u001b[0m \u001b[1m0s\u001b[0m 2ms/step - accuracy: 0.7959 - loss: 0.4969 - val_accuracy: 0.7956 - val_loss: 0.5015\n",
      "Epoch 45/75\n",
      "\u001b[1m128/128\u001b[0m \u001b[32m━━━━━━━━━━━━━━━━━━━━\u001b[0m\u001b[37m\u001b[0m \u001b[1m0s\u001b[0m 2ms/step - accuracy: 0.7993 - loss: 0.4944 - val_accuracy: 0.7956 - val_loss: 0.5016\n",
      "Epoch 46/75\n",
      "\u001b[1m128/128\u001b[0m \u001b[32m━━━━━━━━━━━━━━━━━━━━\u001b[0m\u001b[37m\u001b[0m \u001b[1m0s\u001b[0m 2ms/step - accuracy: 0.7918 - loss: 0.5043 - val_accuracy: 0.7956 - val_loss: 0.5019\n",
      "Epoch 47/75\n",
      "\u001b[1m128/128\u001b[0m \u001b[32m━━━━━━━━━━━━━━━━━━━━\u001b[0m\u001b[37m\u001b[0m \u001b[1m0s\u001b[0m 2ms/step - accuracy: 0.7934 - loss: 0.4988 - val_accuracy: 0.7956 - val_loss: 0.5021\n",
      "Epoch 48/75\n",
      "\u001b[1m128/128\u001b[0m \u001b[32m━━━━━━━━━━━━━━━━━━━━\u001b[0m\u001b[37m\u001b[0m \u001b[1m0s\u001b[0m 2ms/step - accuracy: 0.8092 - loss: 0.4793 - val_accuracy: 0.7956 - val_loss: 0.5025\n",
      "Epoch 49/75\n",
      "\u001b[1m128/128\u001b[0m \u001b[32m━━━━━━━━━━━━━━━━━━━━\u001b[0m\u001b[37m\u001b[0m \u001b[1m0s\u001b[0m 2ms/step - accuracy: 0.7942 - loss: 0.5015 - val_accuracy: 0.7956 - val_loss: 0.5023\n",
      "Epoch 50/75\n",
      "\u001b[1m128/128\u001b[0m \u001b[32m━━━━━━━━━━━━━━━━━━━━\u001b[0m\u001b[37m\u001b[0m \u001b[1m0s\u001b[0m 2ms/step - accuracy: 0.7989 - loss: 0.4946 - val_accuracy: 0.7956 - val_loss: 0.5020\n",
      "Epoch 51/75\n",
      "\u001b[1m128/128\u001b[0m \u001b[32m━━━━━━━━━━━━━━━━━━━━\u001b[0m\u001b[37m\u001b[0m \u001b[1m0s\u001b[0m 2ms/step - accuracy: 0.7994 - loss: 0.4928 - val_accuracy: 0.7956 - val_loss: 0.5022\n",
      "Epoch 52/75\n",
      "\u001b[1m128/128\u001b[0m \u001b[32m━━━━━━━━━━━━━━━━━━━━\u001b[0m\u001b[37m\u001b[0m \u001b[1m0s\u001b[0m 2ms/step - accuracy: 0.7905 - loss: 0.5023 - val_accuracy: 0.7956 - val_loss: 0.5021\n",
      "Epoch 53/75\n",
      "\u001b[1m128/128\u001b[0m \u001b[32m━━━━━━━━━━━━━━━━━━━━\u001b[0m\u001b[37m\u001b[0m \u001b[1m0s\u001b[0m 2ms/step - accuracy: 0.7963 - loss: 0.4984 - val_accuracy: 0.7956 - val_loss: 0.5021\n",
      "Epoch 54/75\n",
      "\u001b[1m128/128\u001b[0m \u001b[32m━━━━━━━━━━━━━━━━━━━━\u001b[0m\u001b[37m\u001b[0m \u001b[1m0s\u001b[0m 2ms/step - accuracy: 0.8067 - loss: 0.4817 - val_accuracy: 0.7956 - val_loss: 0.5013\n",
      "Epoch 55/75\n",
      "\u001b[1m128/128\u001b[0m \u001b[32m━━━━━━━━━━━━━━━━━━━━\u001b[0m\u001b[37m\u001b[0m \u001b[1m0s\u001b[0m 2ms/step - accuracy: 0.7894 - loss: 0.5089 - val_accuracy: 0.7956 - val_loss: 0.5026\n",
      "Epoch 56/75\n",
      "\u001b[1m128/128\u001b[0m \u001b[32m━━━━━━━━━━━━━━━━━━━━\u001b[0m\u001b[37m\u001b[0m \u001b[1m0s\u001b[0m 2ms/step - accuracy: 0.7929 - loss: 0.5023 - val_accuracy: 0.7956 - val_loss: 0.5019\n",
      "Epoch 57/75\n",
      "\u001b[1m128/128\u001b[0m \u001b[32m━━━━━━━━━━━━━━━━━━━━\u001b[0m\u001b[37m\u001b[0m \u001b[1m0s\u001b[0m 2ms/step - accuracy: 0.7969 - loss: 0.4961 - val_accuracy: 0.7956 - val_loss: 0.5019\n",
      "Epoch 58/75\n",
      "\u001b[1m128/128\u001b[0m \u001b[32m━━━━━━━━━━━━━━━━━━━━\u001b[0m\u001b[37m\u001b[0m \u001b[1m0s\u001b[0m 2ms/step - accuracy: 0.7964 - loss: 0.4997 - val_accuracy: 0.7956 - val_loss: 0.5024\n",
      "Epoch 59/75\n",
      "\u001b[1m128/128\u001b[0m \u001b[32m━━━━━━━━━━━━━━━━━━━━\u001b[0m\u001b[37m\u001b[0m \u001b[1m0s\u001b[0m 2ms/step - accuracy: 0.7963 - loss: 0.4987 - val_accuracy: 0.7956 - val_loss: 0.5019\n",
      "Epoch 60/75\n",
      "\u001b[1m128/128\u001b[0m \u001b[32m━━━━━━━━━━━━━━━━━━━━\u001b[0m\u001b[37m\u001b[0m \u001b[1m0s\u001b[0m 2ms/step - accuracy: 0.7965 - loss: 0.4987 - val_accuracy: 0.7956 - val_loss: 0.5013\n",
      "Epoch 61/75\n",
      "\u001b[1m128/128\u001b[0m \u001b[32m━━━━━━━━━━━━━━━━━━━━\u001b[0m\u001b[37m\u001b[0m \u001b[1m0s\u001b[0m 2ms/step - accuracy: 0.7917 - loss: 0.5030 - val_accuracy: 0.7956 - val_loss: 0.5011\n",
      "Epoch 62/75\n",
      "\u001b[1m128/128\u001b[0m \u001b[32m━━━━━━━━━━━━━━━━━━━━\u001b[0m\u001b[37m\u001b[0m \u001b[1m0s\u001b[0m 2ms/step - accuracy: 0.7986 - loss: 0.4942 - val_accuracy: 0.7956 - val_loss: 0.5015\n",
      "Epoch 63/75\n",
      "\u001b[1m128/128\u001b[0m \u001b[32m━━━━━━━━━━━━━━━━━━━━\u001b[0m\u001b[37m\u001b[0m \u001b[1m0s\u001b[0m 2ms/step - accuracy: 0.8020 - loss: 0.4911 - val_accuracy: 0.7956 - val_loss: 0.5014\n",
      "Epoch 64/75\n",
      "\u001b[1m128/128\u001b[0m \u001b[32m━━━━━━━━━━━━━━━━━━━━\u001b[0m\u001b[37m\u001b[0m \u001b[1m0s\u001b[0m 2ms/step - accuracy: 0.8052 - loss: 0.4896 - val_accuracy: 0.7956 - val_loss: 0.5013\n",
      "Epoch 65/75\n",
      "\u001b[1m128/128\u001b[0m \u001b[32m━━━━━━━━━━━━━━━━━━━━\u001b[0m\u001b[37m\u001b[0m \u001b[1m0s\u001b[0m 2ms/step - accuracy: 0.7958 - loss: 0.4986 - val_accuracy: 0.7956 - val_loss: 0.5014\n",
      "Epoch 66/75\n",
      "\u001b[1m128/128\u001b[0m \u001b[32m━━━━━━━━━━━━━━━━━━━━\u001b[0m\u001b[37m\u001b[0m \u001b[1m0s\u001b[0m 2ms/step - accuracy: 0.7986 - loss: 0.4949 - val_accuracy: 0.7956 - val_loss: 0.5014\n",
      "Epoch 67/75\n",
      "\u001b[1m128/128\u001b[0m \u001b[32m━━━━━━━━━━━━━━━━━━━━\u001b[0m\u001b[37m\u001b[0m \u001b[1m0s\u001b[0m 2ms/step - accuracy: 0.7956 - loss: 0.5013 - val_accuracy: 0.7956 - val_loss: 0.5014\n",
      "Epoch 68/75\n",
      "\u001b[1m128/128\u001b[0m \u001b[32m━━━━━━━━━━━━━━━━━━━━\u001b[0m\u001b[37m\u001b[0m \u001b[1m0s\u001b[0m 2ms/step - accuracy: 0.7957 - loss: 0.5001 - val_accuracy: 0.7956 - val_loss: 0.5015\n",
      "Epoch 69/75\n",
      "\u001b[1m128/128\u001b[0m \u001b[32m━━━━━━━━━━━━━━━━━━━━\u001b[0m\u001b[37m\u001b[0m \u001b[1m0s\u001b[0m 2ms/step - accuracy: 0.7983 - loss: 0.4956 - val_accuracy: 0.7956 - val_loss: 0.5013\n",
      "Epoch 70/75\n",
      "\u001b[1m128/128\u001b[0m \u001b[32m━━━━━━━━━━━━━━━━━━━━\u001b[0m\u001b[37m\u001b[0m \u001b[1m0s\u001b[0m 2ms/step - accuracy: 0.7996 - loss: 0.4912 - val_accuracy: 0.7956 - val_loss: 0.5008\n",
      "Epoch 71/75\n",
      "\u001b[1m128/128\u001b[0m \u001b[32m━━━━━━━━━━━━━━━━━━━━\u001b[0m\u001b[37m\u001b[0m \u001b[1m0s\u001b[0m 2ms/step - accuracy: 0.7943 - loss: 0.5023 - val_accuracy: 0.7956 - val_loss: 0.5009\n",
      "Epoch 72/75\n",
      "\u001b[1m128/128\u001b[0m \u001b[32m━━━━━━━━━━━━━━━━━━━━\u001b[0m\u001b[37m\u001b[0m \u001b[1m0s\u001b[0m 2ms/step - accuracy: 0.7907 - loss: 0.5057 - val_accuracy: 0.7956 - val_loss: 0.5008\n",
      "Epoch 73/75\n",
      "\u001b[1m128/128\u001b[0m \u001b[32m━━━━━━━━━━━━━━━━━━━━\u001b[0m\u001b[37m\u001b[0m \u001b[1m0s\u001b[0m 2ms/step - accuracy: 0.8046 - loss: 0.4864 - val_accuracy: 0.7956 - val_loss: 0.5009\n",
      "Epoch 74/75\n",
      "\u001b[1m128/128\u001b[0m \u001b[32m━━━━━━━━━━━━━━━━━━━━\u001b[0m\u001b[37m\u001b[0m \u001b[1m0s\u001b[0m 2ms/step - accuracy: 0.7877 - loss: 0.5114 - val_accuracy: 0.7956 - val_loss: 0.5010\n",
      "Epoch 75/75\n",
      "\u001b[1m128/128\u001b[0m \u001b[32m━━━━━━━━━━━━━━━━━━━━\u001b[0m\u001b[37m\u001b[0m \u001b[1m0s\u001b[0m 2ms/step - accuracy: 0.8018 - loss: 0.4907 - val_accuracy: 0.7956 - val_loss: 0.5010\n"
     ]
    }
   ],
   "source": [
    "history = model.fit(X_train,y_train,batch_size = 50, epochs =75, verbose=1, validation_split=0.2)"
   ]
  },
  {
   "cell_type": "code",
   "execution_count": 30,
   "id": "62540f31",
   "metadata": {
    "execution": {
     "iopub.execute_input": "2024-12-21T07:56:32.270408Z",
     "iopub.status.busy": "2024-12-21T07:56:32.270019Z",
     "iopub.status.idle": "2024-12-21T07:56:32.280326Z",
     "shell.execute_reply": "2024-12-21T07:56:32.278886Z"
    },
    "papermill": {
     "duration": 0.049771,
     "end_time": "2024-12-21T07:56:32.282869",
     "exception": false,
     "start_time": "2024-12-21T07:56:32.233098",
     "status": "completed"
    },
    "tags": []
   },
   "outputs": [
    {
     "data": {
      "text/plain": [
       "{'accuracy': [0.7975000143051147,\n",
       "  0.7975000143051147,\n",
       "  0.7975000143051147,\n",
       "  0.7975000143051147,\n",
       "  0.7975000143051147,\n",
       "  0.7975000143051147,\n",
       "  0.7975000143051147,\n",
       "  0.7975000143051147,\n",
       "  0.7975000143051147,\n",
       "  0.7975000143051147,\n",
       "  0.7975000143051147,\n",
       "  0.7975000143051147,\n",
       "  0.7975000143051147,\n",
       "  0.7975000143051147,\n",
       "  0.7975000143051147,\n",
       "  0.7975000143051147,\n",
       "  0.7975000143051147,\n",
       "  0.7975000143051147,\n",
       "  0.7975000143051147,\n",
       "  0.7975000143051147,\n",
       "  0.7975000143051147,\n",
       "  0.7975000143051147,\n",
       "  0.7975000143051147,\n",
       "  0.7975000143051147,\n",
       "  0.7975000143051147,\n",
       "  0.7975000143051147,\n",
       "  0.7975000143051147,\n",
       "  0.7975000143051147,\n",
       "  0.7975000143051147,\n",
       "  0.7975000143051147,\n",
       "  0.7975000143051147,\n",
       "  0.7975000143051147,\n",
       "  0.7975000143051147,\n",
       "  0.7975000143051147,\n",
       "  0.7975000143051147,\n",
       "  0.7975000143051147,\n",
       "  0.7975000143051147,\n",
       "  0.7975000143051147,\n",
       "  0.7975000143051147,\n",
       "  0.7975000143051147,\n",
       "  0.7975000143051147,\n",
       "  0.7975000143051147,\n",
       "  0.7975000143051147,\n",
       "  0.7975000143051147,\n",
       "  0.7975000143051147,\n",
       "  0.7975000143051147,\n",
       "  0.7975000143051147,\n",
       "  0.7975000143051147,\n",
       "  0.7975000143051147,\n",
       "  0.7975000143051147,\n",
       "  0.7975000143051147,\n",
       "  0.7975000143051147,\n",
       "  0.7975000143051147,\n",
       "  0.7975000143051147,\n",
       "  0.7975000143051147,\n",
       "  0.7975000143051147,\n",
       "  0.7975000143051147,\n",
       "  0.7975000143051147,\n",
       "  0.7975000143051147,\n",
       "  0.7975000143051147,\n",
       "  0.7975000143051147,\n",
       "  0.7975000143051147,\n",
       "  0.7975000143051147,\n",
       "  0.7975000143051147,\n",
       "  0.7975000143051147,\n",
       "  0.7975000143051147,\n",
       "  0.7975000143051147,\n",
       "  0.7975000143051147,\n",
       "  0.7975000143051147,\n",
       "  0.7975000143051147,\n",
       "  0.7975000143051147,\n",
       "  0.7975000143051147,\n",
       "  0.7975000143051147,\n",
       "  0.7975000143051147,\n",
       "  0.7975000143051147],\n",
       " 'loss': [0.5098494291305542,\n",
       "  0.5007921457290649,\n",
       "  0.4994269609451294,\n",
       "  0.49876120686531067,\n",
       "  0.49803784489631653,\n",
       "  0.4979252517223358,\n",
       "  0.4976033866405487,\n",
       "  0.4973782002925873,\n",
       "  0.49723872542381287,\n",
       "  0.497107595205307,\n",
       "  0.49697649478912354,\n",
       "  0.4969259202480316,\n",
       "  0.49700671434402466,\n",
       "  0.49683135747909546,\n",
       "  0.4968712329864502,\n",
       "  0.49686142802238464,\n",
       "  0.4968632757663727,\n",
       "  0.497170627117157,\n",
       "  0.49680766463279724,\n",
       "  0.4967347979545593,\n",
       "  0.49685001373291016,\n",
       "  0.49683520197868347,\n",
       "  0.49676313996315,\n",
       "  0.49653124809265137,\n",
       "  0.49676868319511414,\n",
       "  0.4967041015625,\n",
       "  0.4967171847820282,\n",
       "  0.49670132994651794,\n",
       "  0.49666374921798706,\n",
       "  0.4965616464614868,\n",
       "  0.49662262201309204,\n",
       "  0.4964843988418579,\n",
       "  0.4965432286262512,\n",
       "  0.4965572655200958,\n",
       "  0.49677082896232605,\n",
       "  0.4968285858631134,\n",
       "  0.49663272500038147,\n",
       "  0.4967305362224579,\n",
       "  0.49649620056152344,\n",
       "  0.49637967348098755,\n",
       "  0.49643853306770325,\n",
       "  0.4965016841888428,\n",
       "  0.49634018540382385,\n",
       "  0.49638307094573975,\n",
       "  0.49652042984962463,\n",
       "  0.49638044834136963,\n",
       "  0.49624988436698914,\n",
       "  0.4960536062717438,\n",
       "  0.49629729986190796,\n",
       "  0.4963265657424927,\n",
       "  0.49617278575897217,\n",
       "  0.49639302492141724,\n",
       "  0.49643465876579285,\n",
       "  0.49681881070137024,\n",
       "  0.49684032797813416,\n",
       "  0.4968014061450958,\n",
       "  0.4968336820602417,\n",
       "  0.496639221906662,\n",
       "  0.4965977966785431,\n",
       "  0.49653416872024536,\n",
       "  0.49670279026031494,\n",
       "  0.49694836139678955,\n",
       "  0.49662333726882935,\n",
       "  0.4968193769454956,\n",
       "  0.4969753623008728,\n",
       "  0.4966580271720886,\n",
       "  0.4965982139110565,\n",
       "  0.49673745036125183,\n",
       "  0.49670085310935974,\n",
       "  0.4971836805343628,\n",
       "  0.49728429317474365,\n",
       "  0.49720194935798645,\n",
       "  0.49718621373176575,\n",
       "  0.4972018003463745,\n",
       "  0.49701282382011414],\n",
       " 'val_accuracy': [0.7956249713897705,\n",
       "  0.7956249713897705,\n",
       "  0.7956249713897705,\n",
       "  0.7956249713897705,\n",
       "  0.7956249713897705,\n",
       "  0.7956249713897705,\n",
       "  0.7956249713897705,\n",
       "  0.7956249713897705,\n",
       "  0.7956249713897705,\n",
       "  0.7956249713897705,\n",
       "  0.7956249713897705,\n",
       "  0.7956249713897705,\n",
       "  0.7956249713897705,\n",
       "  0.7956249713897705,\n",
       "  0.7956249713897705,\n",
       "  0.7956249713897705,\n",
       "  0.7956249713897705,\n",
       "  0.7956249713897705,\n",
       "  0.7956249713897705,\n",
       "  0.7956249713897705,\n",
       "  0.7956249713897705,\n",
       "  0.7956249713897705,\n",
       "  0.7956249713897705,\n",
       "  0.7956249713897705,\n",
       "  0.7956249713897705,\n",
       "  0.7956249713897705,\n",
       "  0.7956249713897705,\n",
       "  0.7956249713897705,\n",
       "  0.7956249713897705,\n",
       "  0.7956249713897705,\n",
       "  0.7956249713897705,\n",
       "  0.7956249713897705,\n",
       "  0.7956249713897705,\n",
       "  0.7956249713897705,\n",
       "  0.7956249713897705,\n",
       "  0.7956249713897705,\n",
       "  0.7956249713897705,\n",
       "  0.7956249713897705,\n",
       "  0.7956249713897705,\n",
       "  0.7956249713897705,\n",
       "  0.7956249713897705,\n",
       "  0.7956249713897705,\n",
       "  0.7956249713897705,\n",
       "  0.7956249713897705,\n",
       "  0.7956249713897705,\n",
       "  0.7956249713897705,\n",
       "  0.7956249713897705,\n",
       "  0.7956249713897705,\n",
       "  0.7956249713897705,\n",
       "  0.7956249713897705,\n",
       "  0.7956249713897705,\n",
       "  0.7956249713897705,\n",
       "  0.7956249713897705,\n",
       "  0.7956249713897705,\n",
       "  0.7956249713897705,\n",
       "  0.7956249713897705,\n",
       "  0.7956249713897705,\n",
       "  0.7956249713897705,\n",
       "  0.7956249713897705,\n",
       "  0.7956249713897705,\n",
       "  0.7956249713897705,\n",
       "  0.7956249713897705,\n",
       "  0.7956249713897705,\n",
       "  0.7956249713897705,\n",
       "  0.7956249713897705,\n",
       "  0.7956249713897705,\n",
       "  0.7956249713897705,\n",
       "  0.7956249713897705,\n",
       "  0.7956249713897705,\n",
       "  0.7956249713897705,\n",
       "  0.7956249713897705,\n",
       "  0.7956249713897705,\n",
       "  0.7956249713897705,\n",
       "  0.7956249713897705,\n",
       "  0.7956249713897705],\n",
       " 'val_loss': [0.5050948262214661,\n",
       "  0.5038602352142334,\n",
       "  0.5028404593467712,\n",
       "  0.5024613738059998,\n",
       "  0.5023796558380127,\n",
       "  0.5019676685333252,\n",
       "  0.5018977522850037,\n",
       "  0.5018351078033447,\n",
       "  0.5018332600593567,\n",
       "  0.5019258260726929,\n",
       "  0.5018184185028076,\n",
       "  0.502023458480835,\n",
       "  0.5017997026443481,\n",
       "  0.50177001953125,\n",
       "  0.5017542839050293,\n",
       "  0.5014983415603638,\n",
       "  0.5020842552185059,\n",
       "  0.5014657378196716,\n",
       "  0.5016797780990601,\n",
       "  0.5013388991355896,\n",
       "  0.5013552308082581,\n",
       "  0.5015650391578674,\n",
       "  0.501645028591156,\n",
       "  0.5017232298851013,\n",
       "  0.5014157295227051,\n",
       "  0.5015344023704529,\n",
       "  0.5015636086463928,\n",
       "  0.5014359951019287,\n",
       "  0.5014811158180237,\n",
       "  0.5014747977256775,\n",
       "  0.5015548467636108,\n",
       "  0.5016459822654724,\n",
       "  0.5018702149391174,\n",
       "  0.5015870928764343,\n",
       "  0.5016076564788818,\n",
       "  0.5016863346099854,\n",
       "  0.5013017058372498,\n",
       "  0.5014921426773071,\n",
       "  0.5015640258789062,\n",
       "  0.5016183257102966,\n",
       "  0.5015815496444702,\n",
       "  0.5015223026275635,\n",
       "  0.5015234351158142,\n",
       "  0.5015403628349304,\n",
       "  0.5016279816627502,\n",
       "  0.501908540725708,\n",
       "  0.5020568370819092,\n",
       "  0.502451479434967,\n",
       "  0.5023179054260254,\n",
       "  0.5019718408584595,\n",
       "  0.5022166967391968,\n",
       "  0.5020644664764404,\n",
       "  0.5021170973777771,\n",
       "  0.5013077259063721,\n",
       "  0.5025631189346313,\n",
       "  0.5018982291221619,\n",
       "  0.5019325613975525,\n",
       "  0.5023787021636963,\n",
       "  0.5018621683120728,\n",
       "  0.5012762546539307,\n",
       "  0.5011272430419922,\n",
       "  0.5015134215354919,\n",
       "  0.501411497592926,\n",
       "  0.5013008117675781,\n",
       "  0.5013653039932251,\n",
       "  0.5013538599014282,\n",
       "  0.5014435648918152,\n",
       "  0.5014635324478149,\n",
       "  0.501325786113739,\n",
       "  0.5008035898208618,\n",
       "  0.500885546207428,\n",
       "  0.5008236169815063,\n",
       "  0.5009281039237976,\n",
       "  0.5010128617286682,\n",
       "  0.5009673237800598]}"
      ]
     },
     "execution_count": 30,
     "metadata": {},
     "output_type": "execute_result"
    }
   ],
   "source": [
    "history.history"
   ]
  },
  {
   "cell_type": "code",
   "execution_count": 31,
   "id": "fe42a2b2",
   "metadata": {
    "execution": {
     "iopub.execute_input": "2024-12-21T07:56:32.365280Z",
     "iopub.status.busy": "2024-12-21T07:56:32.364881Z",
     "iopub.status.idle": "2024-12-21T07:56:32.628585Z",
     "shell.execute_reply": "2024-12-21T07:56:32.627450Z"
    },
    "papermill": {
     "duration": 0.30532,
     "end_time": "2024-12-21T07:56:32.630874",
     "exception": false,
     "start_time": "2024-12-21T07:56:32.325554",
     "status": "completed"
    },
    "tags": []
   },
   "outputs": [
    {
     "name": "stdout",
     "output_type": "stream",
     "text": [
      "\u001b[1m63/63\u001b[0m \u001b[32m━━━━━━━━━━━━━━━━━━━━\u001b[0m\u001b[37m\u001b[0m \u001b[1m0s\u001b[0m 2ms/step\n"
     ]
    }
   ],
   "source": [
    "y_pred = model.predict(X_test)"
   ]
  },
  {
   "cell_type": "code",
   "execution_count": 32,
   "id": "df381678",
   "metadata": {
    "execution": {
     "iopub.execute_input": "2024-12-21T07:56:32.708441Z",
     "iopub.status.busy": "2024-12-21T07:56:32.708025Z",
     "iopub.status.idle": "2024-12-21T07:56:32.714346Z",
     "shell.execute_reply": "2024-12-21T07:56:32.713271Z"
    },
    "papermill": {
     "duration": 0.048007,
     "end_time": "2024-12-21T07:56:32.716184",
     "exception": false,
     "start_time": "2024-12-21T07:56:32.668177",
     "status": "completed"
    },
    "tags": []
   },
   "outputs": [
    {
     "data": {
      "text/plain": [
       "array([[0.13805752],\n",
       "       [0.13805752],\n",
       "       [0.22841382],\n",
       "       ...,\n",
       "       [0.24093884],\n",
       "       [0.22486363],\n",
       "       [0.13805752]], dtype=float32)"
      ]
     },
     "execution_count": 32,
     "metadata": {},
     "output_type": "execute_result"
    }
   ],
   "source": [
    "y_pred"
   ]
  },
  {
   "cell_type": "code",
   "execution_count": 33,
   "id": "0d966653",
   "metadata": {
    "execution": {
     "iopub.execute_input": "2024-12-21T07:56:32.791601Z",
     "iopub.status.busy": "2024-12-21T07:56:32.791243Z",
     "iopub.status.idle": "2024-12-21T07:56:32.796706Z",
     "shell.execute_reply": "2024-12-21T07:56:32.795116Z"
    },
    "papermill": {
     "duration": 0.045714,
     "end_time": "2024-12-21T07:56:32.798605",
     "exception": false,
     "start_time": "2024-12-21T07:56:32.752891",
     "status": "completed"
    },
    "tags": []
   },
   "outputs": [],
   "source": [
    "y_pred = y_pred.argmax(axis=-1)"
   ]
  },
  {
   "cell_type": "code",
   "execution_count": 34,
   "id": "bb87c5d3",
   "metadata": {
    "execution": {
     "iopub.execute_input": "2024-12-21T07:56:32.872363Z",
     "iopub.status.busy": "2024-12-21T07:56:32.871975Z",
     "iopub.status.idle": "2024-12-21T07:56:32.879534Z",
     "shell.execute_reply": "2024-12-21T07:56:32.878387Z"
    },
    "papermill": {
     "duration": 0.046141,
     "end_time": "2024-12-21T07:56:32.881397",
     "exception": false,
     "start_time": "2024-12-21T07:56:32.835256",
     "status": "completed"
    },
    "tags": []
   },
   "outputs": [
    {
     "data": {
      "text/plain": [
       "0.793"
      ]
     },
     "execution_count": 34,
     "metadata": {},
     "output_type": "execute_result"
    }
   ],
   "source": [
    "from sklearn.metrics import accuracy_score\n",
    "accuracy_score(y_test,y_pred)"
   ]
  },
  {
   "cell_type": "code",
   "execution_count": 35,
   "id": "80db2ff8",
   "metadata": {
    "execution": {
     "iopub.execute_input": "2024-12-21T07:56:32.955862Z",
     "iopub.status.busy": "2024-12-21T07:56:32.955518Z",
     "iopub.status.idle": "2024-12-21T07:56:32.959916Z",
     "shell.execute_reply": "2024-12-21T07:56:32.958742Z"
    },
    "papermill": {
     "duration": 0.043468,
     "end_time": "2024-12-21T07:56:32.961842",
     "exception": false,
     "start_time": "2024-12-21T07:56:32.918374",
     "status": "completed"
    },
    "tags": []
   },
   "outputs": [],
   "source": [
    "import matplotlib.pyplot as plt"
   ]
  },
  {
   "cell_type": "code",
   "execution_count": 36,
   "id": "49969b21",
   "metadata": {
    "execution": {
     "iopub.execute_input": "2024-12-21T07:56:33.037078Z",
     "iopub.status.busy": "2024-12-21T07:56:33.036693Z",
     "iopub.status.idle": "2024-12-21T07:56:33.330048Z",
     "shell.execute_reply": "2024-12-21T07:56:33.328861Z"
    },
    "papermill": {
     "duration": 0.333103,
     "end_time": "2024-12-21T07:56:33.332097",
     "exception": false,
     "start_time": "2024-12-21T07:56:32.998994",
     "status": "completed"
    },
    "tags": []
   },
   "outputs": [
    {
     "data": {
      "text/plain": [
       "[<matplotlib.lines.Line2D at 0x7fcce87e1810>]"
      ]
     },
     "execution_count": 36,
     "metadata": {},
     "output_type": "execute_result"
    },
    {
     "data": {
      "image/png": "[encoded data removed]",
      "text/plain": [
       "<Figure size 640x480 with 1 Axes>"
      ]
     },
     "metadata": {},
     "output_type": "display_data"
    }
   ],
   "source": [
    "plt.plot(history.history['loss'])"
   ]
  },
  {
   "cell_type": "code",
   "execution_count": 37,
   "id": "565dd0d9",
   "metadata": {
    "execution": {
     "iopub.execute_input": "2024-12-21T07:56:33.408836Z",
     "iopub.status.busy": "2024-12-21T07:56:33.408437Z",
     "iopub.status.idle": "2024-12-21T07:56:33.656918Z",
     "shell.execute_reply": "2024-12-21T07:56:33.655835Z"
    },
    "papermill": {
     "duration": 0.289044,
     "end_time": "2024-12-21T07:56:33.659027",
     "exception": false,
     "start_time": "2024-12-21T07:56:33.369983",
     "status": "completed"
    },
    "tags": []
   },
   "outputs": [
    {
     "data": {
      "text/plain": [
       "[<matplotlib.lines.Line2D at 0x7fccebfaec80>]"
      ]
     },
     "execution_count": 37,
     "metadata": {},
     "output_type": "execute_result"
    },
    {
     "data": {
      "image/png": "[encoded data removed]",
      "text/plain": [
       "<Figure size 640x480 with 1 Axes>"
      ]
     },
     "metadata": {},
     "output_type": "display_data"
    }
   ],
   "source": [
    "plt.plot(history.history['val_loss'])"
   ]
  },
  {
   "cell_type": "code",
   "execution_count": 38,
   "id": "8f088ab4",
   "metadata": {
    "execution": {
     "iopub.execute_input": "2024-12-21T07:56:33.736693Z",
     "iopub.status.busy": "2024-12-21T07:56:33.736320Z",
     "iopub.status.idle": "2024-12-21T07:56:33.990603Z",
     "shell.execute_reply": "2024-12-21T07:56:33.989179Z"
    },
    "papermill": {
     "duration": 0.295212,
     "end_time": "2024-12-21T07:56:33.992870",
     "exception": false,
     "start_time": "2024-12-21T07:56:33.697658",
     "status": "completed"
    },
    "tags": []
   },
   "outputs": [
    {
     "data": {
      "text/plain": [
       "[<matplotlib.lines.Line2D at 0x7fcce9e40730>]"
      ]
     },
     "execution_count": 38,
     "metadata": {},
     "output_type": "execute_result"
    },
    {
     "data": {
      "image/png": "[encoded data removed]",
      "text/plain": [
       "<Figure size 640x480 with 1 Axes>"
      ]
     },
     "metadata": {},
     "output_type": "display_data"
    }
   ],
   "source": [
    "plt.plot(history.history['loss'])\n",
    "plt.plot(history.history['val_loss'])"
   ]
  },
  {
   "cell_type": "code",
   "execution_count": 39,
   "id": "c6e61ef2",
   "metadata": {
    "execution": {
     "iopub.execute_input": "2024-12-21T07:56:34.073032Z",
     "iopub.status.busy": "2024-12-21T07:56:34.072677Z",
     "iopub.status.idle": "2024-12-21T07:56:34.272779Z",
     "shell.execute_reply": "2024-12-21T07:56:34.271636Z"
    },
    "papermill": {
     "duration": 0.24251,
     "end_time": "2024-12-21T07:56:34.274696",
     "exception": false,
     "start_time": "2024-12-21T07:56:34.032186",
     "status": "completed"
    },
    "tags": []
   },
   "outputs": [
    {
     "data": {
      "text/plain": [
       "[<matplotlib.lines.Line2D at 0x7fcce9ecc220>]"
      ]
     },
     "execution_count": 39,
     "metadata": {},
     "output_type": "execute_result"
    },
    {
     "data": {
      "image/png": "[encoded data removed]",
      "text/plain": [
       "<Figure size 640x480 with 1 Axes>"
      ]
     },
     "metadata": {},
     "output_type": "display_data"
    }
   ],
   "source": [
    "plt.plot(history.history['accuracy'])"
   ]
  },
  {
   "cell_type": "code",
   "execution_count": 40,
   "id": "ed876219",
   "metadata": {
    "execution": {
     "iopub.execute_input": "2024-12-21T07:56:34.417239Z",
     "iopub.status.busy": "2024-12-21T07:56:34.416714Z",
     "iopub.status.idle": "2024-12-21T07:56:34.683069Z",
     "shell.execute_reply": "2024-12-21T07:56:34.681867Z"
    },
    "papermill": {
     "duration": 0.366957,
     "end_time": "2024-12-21T07:56:34.684917",
     "exception": false,
     "start_time": "2024-12-21T07:56:34.317960",
     "status": "completed"
    },
    "tags": []
   },
   "outputs": [
    {
     "data": {
      "text/plain": [
       "[<matplotlib.lines.Line2D at 0x7fcce9d5c250>]"
      ]
     },
     "execution_count": 40,
     "metadata": {},
     "output_type": "execute_result"
    },
    {
     "data": {
      "image/png": "[encoded data removed]",
      "text/plain": [
       "<Figure size 640x480 with 1 Axes>"
      ]
     },
     "metadata": {},
     "output_type": "display_data"
    }
   ],
   "source": [
    "plt.plot(history.history['val_accuracy'])"
   ]
  },
  {
   "cell_type": "code",
   "execution_count": 41,
   "id": "4c75c63b",
   "metadata": {
    "execution": {
     "iopub.execute_input": "2024-12-21T07:56:34.765730Z",
     "iopub.status.busy": "2024-12-21T07:56:34.765349Z",
     "iopub.status.idle": "2024-12-21T07:56:35.011535Z",
     "shell.execute_reply": "2024-12-21T07:56:35.010436Z"
    },
    "papermill": {
     "duration": 0.289105,
     "end_time": "2024-12-21T07:56:35.013351",
     "exception": false,
     "start_time": "2024-12-21T07:56:34.724246",
     "status": "completed"
    },
    "tags": []
   },
   "outputs": [
    {
     "data": {
      "text/plain": [
       "[<matplotlib.lines.Line2D at 0x7fcce9dafb50>]"
      ]
     },
     "execution_count": 41,
     "metadata": {},
     "output_type": "execute_result"
    },
    {
     "data": {
      "image/png": "[encoded data removed]",
      "text/plain": [
       "<Figure size 640x480 with 1 Axes>"
      ]
     },
     "metadata": {},
     "output_type": "display_data"
    }
   ],
   "source": [
    "plt.plot(history.history['accuracy'])\n",
    "plt.plot(history.history['val_accuracy'])"
   ]
  },
  {
   "cell_type": "code",
   "execution_count": 42,
   "id": "d89e2705",
   "metadata": {
    "execution": {
     "iopub.execute_input": "2024-12-21T07:56:35.096202Z",
     "iopub.status.busy": "2024-12-21T07:56:35.095789Z",
     "iopub.status.idle": "2024-12-21T07:56:35.334421Z",
     "shell.execute_reply": "2024-12-21T07:56:35.333172Z"
    },
    "papermill": {
     "duration": 0.283098,
     "end_time": "2024-12-21T07:56:35.336478",
     "exception": false,
     "start_time": "2024-12-21T07:56:35.053380",
     "status": "completed"
    },
    "tags": []
   },
   "outputs": [
    {
     "data": {
      "text/plain": [
       "[<matplotlib.lines.Line2D at 0x7fcce9c606d0>]"
      ]
     },
     "execution_count": 42,
     "metadata": {},
     "output_type": "execute_result"
    },
    {
     "data": {
      "image/png": "[encoded data removed]",
      "text/plain": [
       "<Figure size 640x480 with 1 Axes>"
      ]
     },
     "metadata": {},
     "output_type": "display_data"
    }
   ],
   "source": [
    "plt.plot(history.history['loss'])\n",
    "plt.plot(history.history['val_loss'])\n",
    "plt.plot(history.history['accuracy'])\n",
    "plt.plot(history.history['val_accuracy'])"
   ]
  },
  {
   "cell_type": "code",
   "execution_count": null,
   "id": "59d4adcf",
   "metadata": {
    "papermill": {
     "duration": 0.041427,
     "end_time": "2024-12-21T07:56:35.417846",
     "exception": false,
     "start_time": "2024-12-21T07:56:35.376419",
     "status": "completed"
    },
    "tags": []
   },
   "outputs": [],
   "source": []
  }
 ],
 "metadata": {
  "kaggle": {
   "accelerator": "none",
   "dataSources": [
    {
     "datasetId": 869651,
     "sourceId": 1481789,
     "sourceType": "datasetVersion"
    }
   ],
   "dockerImageVersionId": 30822,
   "isGpuEnabled": false,
   "isInternetEnabled": true,
   "language": "python",
   "sourceType": "notebook"
  },
  "kernelspec": {
   "display_name": "Python 3",
   "language": "python",
   "name": "python3"
  },
  "language_info": {
   "codemirror_mode": {
    "name": "ipython",
    "version": 3
   },
   "file_extension": ".py",
   "mimetype": "text/x-python",
   "name": "python",
   "nbconvert_exporter": "python",
   "pygments_lexer": "ipython3",
   "version": "3.10.12"
  },
  "papermill": {
   "default_parameters": {},
   "duration": 42.603966,
   "end_time": "2024-12-21T07:56:37.800414",
   "environment_variables": {},
   "exception": null,
   "input_path": "__notebook__.ipynb",
   "output_path": "__notebook__.ipynb",
   "parameters": {},
   "start_time": "2024-12-21T07:55:55.196448",
   "version": "2.6.0"
  }
 },
 "nbformat": 4,
 "nbformat_minor": 5
}

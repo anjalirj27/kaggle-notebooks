{
 "cells": [
  {
   "cell_type": "code",
   "execution_count": 1,
   "id": "4489c263",
   "metadata": {
    "_cell_guid": "b1076dfc-b9ad-4769-8c92-a6c4dae69d19",
    "_uuid": "8f2839f25d086af736a60e9eeb907d3b93b6e0e5",
    "execution": {
     "iopub.execute_input": "2025-07-04T12:21:32.097945Z",
     "iopub.status.busy": "2025-07-04T12:21:32.097019Z",
     "iopub.status.idle": "2025-07-04T12:21:33.867293Z",
     "shell.execute_reply": "2025-07-04T12:21:33.866341Z"
    },
    "papermill": {
     "duration": 1.78063,
     "end_time": "2025-07-04T12:21:33.868964",
     "exception": false,
     "start_time": "2025-07-04T12:21:32.088334",
     "status": "completed"
    },
    "tags": []
   },
   "outputs": [
    {
     "name": "stdout",
     "output_type": "stream",
     "text": [
      "/kaggle/input/playground-series-s5e7/sample_submission.csv\n",
      "/kaggle/input/playground-series-s5e7/train.csv\n",
      "/kaggle/input/playground-series-s5e7/test.csv\n"
     ]
    }
   ],
   "source": [
    "# This Python 3 environment comes with many helpful analytics libraries installed\n",
    "# It is defined by the kaggle/python Docker image: https://github.com/kaggle/docker-python\n",
    "# For example, here's several helpful packages to load\n",
    "\n",
    "import numpy as np # linear algebra\n",
    "import pandas as pd # data processing, CSV file I/O (e.g. pd.read_csv)\n",
    "\n",
    "# Input data files are available in the read-only \"../input/\" directory\n",
    "# For example, running this (by clicking run or pressing Shift+Enter) will list all files under the input directory\n",
    "\n",
    "import os\n",
    "for dirname, _, filenames in os.walk('/kaggle/input'):\n",
    "    for filename in filenames:\n",
    "        print(os.path.join(dirname, filename))\n",
    "\n",
    "# You can write up to 20GB to the current directory (/kaggle/working/) that gets preserved as output when you create a version using \"Save & Run All\" \n",
    "# You can also write temporary files to /kaggle/temp/, but they won't be saved outside of the current session"
   ]
  },
  {
   "cell_type": "markdown",
   "id": "81b0b642",
   "metadata": {
    "papermill": {
     "duration": 0.005508,
     "end_time": "2025-07-04T12:21:33.880727",
     "exception": false,
     "start_time": "2025-07-04T12:21:33.875219",
     "status": "completed"
    },
    "tags": []
   },
   "source": [
    "Please consider upvoting this notebook"
   ]
  },
  {
   "cell_type": "code",
   "execution_count": 2,
   "id": "fd1396ee",
   "metadata": {
    "execution": {
     "iopub.execute_input": "2025-07-04T12:21:33.893919Z",
     "iopub.status.busy": "2025-07-04T12:21:33.893449Z",
     "iopub.status.idle": "2025-07-04T12:21:36.311839Z",
     "shell.execute_reply": "2025-07-04T12:21:36.310857Z"
    },
    "papermill": {
     "duration": 2.427508,
     "end_time": "2025-07-04T12:21:36.313863",
     "exception": false,
     "start_time": "2025-07-04T12:21:33.886355",
     "status": "completed"
    },
    "tags": []
   },
   "outputs": [],
   "source": [
    "import pandas as pd \n",
    "import numpy as np\n",
    "import seaborn as sns\n",
    "import matplotlib.pyplot as plt\n",
    "from sklearn.preprocessing import LabelEncoder\n",
    "from sklearn.model_selection import train_test_split\n",
    "from sklearn.ensemble import RandomForestClassifier\n",
    "from sklearn.metrics import accuracy_score"
   ]
  },
  {
   "cell_type": "code",
   "execution_count": 3,
   "id": "6f7fe6b7",
   "metadata": {
    "execution": {
     "iopub.execute_input": "2025-07-04T12:21:36.333553Z",
     "iopub.status.busy": "2025-07-04T12:21:36.332623Z",
     "iopub.status.idle": "2025-07-04T12:21:36.397537Z",
     "shell.execute_reply": "2025-07-04T12:21:36.396783Z"
    },
    "papermill": {
     "duration": 0.073671,
     "end_time": "2025-07-04T12:21:36.399137",
     "exception": false,
     "start_time": "2025-07-04T12:21:36.325466",
     "status": "completed"
    },
    "tags": []
   },
   "outputs": [],
   "source": [
    "train = pd.read_csv(\"/kaggle/input/playground-series-s5e7/train.csv\")\n",
    "test = pd.read_csv(\"/kaggle/input/playground-series-s5e7/test.csv\")"
   ]
  },
  {
   "cell_type": "code",
   "execution_count": 4,
   "id": "9177cd00",
   "metadata": {
    "execution": {
     "iopub.execute_input": "2025-07-04T12:21:36.412380Z",
     "iopub.status.busy": "2025-07-04T12:21:36.412042Z",
     "iopub.status.idle": "2025-07-04T12:21:36.442922Z",
     "shell.execute_reply": "2025-07-04T12:21:36.442012Z"
    },
    "papermill": {
     "duration": 0.039209,
     "end_time": "2025-07-04T12:21:36.444352",
     "exception": false,
     "start_time": "2025-07-04T12:21:36.405143",
     "status": "completed"
    },
    "tags": []
   },
   "outputs": [
    {
     "name": "stderr",
     "output_type": "stream",
     "text": [
      "/usr/local/lib/python3.11/dist-packages/pandas/io/formats/format.py:1458: RuntimeWarning: invalid value encountered in greater\n",
      "  has_large_values = (abs_vals > 1e6).any()\n",
      "/usr/local/lib/python3.11/dist-packages/pandas/io/formats/format.py:1459: RuntimeWarning: invalid value encountered in less\n",
      "  has_small_values = ((abs_vals < 10 ** (-self.digits)) & (abs_vals > 0)).any()\n",
      "/usr/local/lib/python3.11/dist-packages/pandas/io/formats/format.py:1459: RuntimeWarning: invalid value encountered in greater\n",
      "  has_small_values = ((abs_vals < 10 ** (-self.digits)) & (abs_vals > 0)).any()\n"
     ]
    },
    {
     "data": {
      "text/html": [
       "<div>\n",
       "<style scoped>\n",
       "    .dataframe tbody tr th:only-of-type {\n",
       "        vertical-align: middle;\n",
       "    }\n",
       "\n",
       "    .dataframe tbody tr th {\n",
       "        vertical-align: top;\n",
       "    }\n",
       "\n",
       "    .dataframe thead th {\n",
       "        text-align: right;\n",
       "    }\n",
       "</style>\n",
       "<table border=\"1\" class=\"dataframe\">\n",
       "  <thead>\n",
       "    <tr style=\"text-align: right;\">\n",
       "      <th></th>\n",
       "      <th>id</th>\n",
       "      <th>Time_spent_Alone</th>\n",
       "      <th>Stage_fear</th>\n",
       "      <th>Social_event_attendance</th>\n",
       "      <th>Going_outside</th>\n",
       "      <th>Drained_after_socializing</th>\n",
       "      <th>Friends_circle_size</th>\n",
       "      <th>Post_frequency</th>\n",
       "      <th>Personality</th>\n",
       "    </tr>\n",
       "  </thead>\n",
       "  <tbody>\n",
       "    <tr>\n",
       "      <th>0</th>\n",
       "      <td>0</td>\n",
       "      <td>0.0</td>\n",
       "      <td>No</td>\n",
       "      <td>6.0</td>\n",
       "      <td>4.0</td>\n",
       "      <td>No</td>\n",
       "      <td>15.0</td>\n",
       "      <td>5.0</td>\n",
       "      <td>Extrovert</td>\n",
       "    </tr>\n",
       "    <tr>\n",
       "      <th>1</th>\n",
       "      <td>1</td>\n",
       "      <td>1.0</td>\n",
       "      <td>No</td>\n",
       "      <td>7.0</td>\n",
       "      <td>3.0</td>\n",
       "      <td>No</td>\n",
       "      <td>10.0</td>\n",
       "      <td>8.0</td>\n",
       "      <td>Extrovert</td>\n",
       "    </tr>\n",
       "    <tr>\n",
       "      <th>2</th>\n",
       "      <td>2</td>\n",
       "      <td>6.0</td>\n",
       "      <td>Yes</td>\n",
       "      <td>1.0</td>\n",
       "      <td>0.0</td>\n",
       "      <td>NaN</td>\n",
       "      <td>3.0</td>\n",
       "      <td>0.0</td>\n",
       "      <td>Introvert</td>\n",
       "    </tr>\n",
       "    <tr>\n",
       "      <th>3</th>\n",
       "      <td>3</td>\n",
       "      <td>3.0</td>\n",
       "      <td>No</td>\n",
       "      <td>7.0</td>\n",
       "      <td>3.0</td>\n",
       "      <td>No</td>\n",
       "      <td>11.0</td>\n",
       "      <td>5.0</td>\n",
       "      <td>Extrovert</td>\n",
       "    </tr>\n",
       "    <tr>\n",
       "      <th>4</th>\n",
       "      <td>4</td>\n",
       "      <td>1.0</td>\n",
       "      <td>No</td>\n",
       "      <td>4.0</td>\n",
       "      <td>4.0</td>\n",
       "      <td>No</td>\n",
       "      <td>13.0</td>\n",
       "      <td>NaN</td>\n",
       "      <td>Extrovert</td>\n",
       "    </tr>\n",
       "  </tbody>\n",
       "</table>\n",
       "</div>"
      ],
      "text/plain": [
       "   id  Time_spent_Alone Stage_fear  Social_event_attendance  Going_outside  \\\n",
       "0   0               0.0         No                      6.0            4.0   \n",
       "1   1               1.0         No                      7.0            3.0   \n",
       "2   2               6.0        Yes                      1.0            0.0   \n",
       "3   3               3.0         No                      7.0            3.0   \n",
       "4   4               1.0         No                      4.0            4.0   \n",
       "\n",
       "  Drained_after_socializing  Friends_circle_size  Post_frequency Personality  \n",
       "0                        No                 15.0             5.0   Extrovert  \n",
       "1                        No                 10.0             8.0   Extrovert  \n",
       "2                       NaN                  3.0             0.0   Introvert  \n",
       "3                        No                 11.0             5.0   Extrovert  \n",
       "4                        No                 13.0             NaN   Extrovert  "
      ]
     },
     "execution_count": 4,
     "metadata": {},
     "output_type": "execute_result"
    }
   ],
   "source": [
    "train.head()"
   ]
  },
  {
   "cell_type": "code",
   "execution_count": 5,
   "id": "10c540eb",
   "metadata": {
    "execution": {
     "iopub.execute_input": "2025-07-04T12:21:36.457702Z",
     "iopub.status.busy": "2025-07-04T12:21:36.457394Z",
     "iopub.status.idle": "2025-07-04T12:21:36.462236Z",
     "shell.execute_reply": "2025-07-04T12:21:36.461369Z"
    },
    "papermill": {
     "duration": 0.012932,
     "end_time": "2025-07-04T12:21:36.463514",
     "exception": false,
     "start_time": "2025-07-04T12:21:36.450582",
     "status": "completed"
    },
    "tags": []
   },
   "outputs": [
    {
     "name": "stdout",
     "output_type": "stream",
     "text": [
      "Train Shape : (18524, 9)\n",
      "Test Shape : (6175, 8)\n"
     ]
    }
   ],
   "source": [
    "print(\"Train Shape :\", train.shape)\n",
    "print(\"Test Shape :\",test.shape)"
   ]
  },
  {
   "cell_type": "code",
   "execution_count": 6,
   "id": "42b2ec2c",
   "metadata": {
    "execution": {
     "iopub.execute_input": "2025-07-04T12:21:36.477250Z",
     "iopub.status.busy": "2025-07-04T12:21:36.476937Z",
     "iopub.status.idle": "2025-07-04T12:21:36.483961Z",
     "shell.execute_reply": "2025-07-04T12:21:36.483166Z"
    },
    "papermill": {
     "duration": 0.015433,
     "end_time": "2025-07-04T12:21:36.485274",
     "exception": false,
     "start_time": "2025-07-04T12:21:36.469841",
     "status": "completed"
    },
    "tags": []
   },
   "outputs": [
    {
     "data": {
      "text/plain": [
       "Index(['id', 'Time_spent_Alone', 'Stage_fear', 'Social_event_attendance',\n",
       "       'Going_outside', 'Drained_after_socializing', 'Friends_circle_size',\n",
       "       'Post_frequency', 'Personality'],\n",
       "      dtype='object')"
      ]
     },
     "execution_count": 6,
     "metadata": {},
     "output_type": "execute_result"
    }
   ],
   "source": [
    "train.columns"
   ]
  },
  {
   "cell_type": "code",
   "execution_count": 7,
   "id": "94ac9336",
   "metadata": {
    "execution": {
     "iopub.execute_input": "2025-07-04T12:21:36.499167Z",
     "iopub.status.busy": "2025-07-04T12:21:36.498846Z",
     "iopub.status.idle": "2025-07-04T12:21:36.508325Z",
     "shell.execute_reply": "2025-07-04T12:21:36.507471Z"
    },
    "papermill": {
     "duration": 0.018075,
     "end_time": "2025-07-04T12:21:36.509650",
     "exception": false,
     "start_time": "2025-07-04T12:21:36.491575",
     "status": "completed"
    },
    "tags": []
   },
   "outputs": [
    {
     "name": "stdout",
     "output_type": "stream",
     "text": [
      "\n",
      "Missing values :   9196\n"
     ]
    }
   ],
   "source": [
    "print (\"\\nMissing values :  \", train.isnull().sum().values.sum())"
   ]
  },
  {
   "cell_type": "code",
   "execution_count": 8,
   "id": "ee9b68bb",
   "metadata": {
    "execution": {
     "iopub.execute_input": "2025-07-04T12:21:36.524815Z",
     "iopub.status.busy": "2025-07-04T12:21:36.523999Z",
     "iopub.status.idle": "2025-07-04T12:21:36.548391Z",
     "shell.execute_reply": "2025-07-04T12:21:36.547036Z"
    },
    "papermill": {
     "duration": 0.033412,
     "end_time": "2025-07-04T12:21:36.550036",
     "exception": false,
     "start_time": "2025-07-04T12:21:36.516624",
     "status": "completed"
    },
    "tags": []
   },
   "outputs": [
    {
     "name": "stdout",
     "output_type": "stream",
     "text": [
      "<class 'pandas.core.frame.DataFrame'>\n",
      "RangeIndex: 18524 entries, 0 to 18523\n",
      "Data columns (total 9 columns):\n",
      " #   Column                     Non-Null Count  Dtype  \n",
      "---  ------                     --------------  -----  \n",
      " 0   id                         18524 non-null  int64  \n",
      " 1   Time_spent_Alone           17334 non-null  float64\n",
      " 2   Stage_fear                 16631 non-null  object \n",
      " 3   Social_event_attendance    17344 non-null  float64\n",
      " 4   Going_outside              17058 non-null  float64\n",
      " 5   Drained_after_socializing  17375 non-null  object \n",
      " 6   Friends_circle_size        17470 non-null  float64\n",
      " 7   Post_frequency             17260 non-null  float64\n",
      " 8   Personality                18524 non-null  object \n",
      "dtypes: float64(5), int64(1), object(3)\n",
      "memory usage: 1.3+ MB\n"
     ]
    }
   ],
   "source": [
    "train.info()"
   ]
  },
  {
   "cell_type": "code",
   "execution_count": 9,
   "id": "cd8a2e0f",
   "metadata": {
    "execution": {
     "iopub.execute_input": "2025-07-04T12:21:36.564634Z",
     "iopub.status.busy": "2025-07-04T12:21:36.564323Z",
     "iopub.status.idle": "2025-07-04T12:21:36.575600Z",
     "shell.execute_reply": "2025-07-04T12:21:36.574876Z"
    },
    "papermill": {
     "duration": 0.019784,
     "end_time": "2025-07-04T12:21:36.576895",
     "exception": false,
     "start_time": "2025-07-04T12:21:36.557111",
     "status": "completed"
    },
    "tags": []
   },
   "outputs": [
    {
     "data": {
      "text/plain": [
       "id                            0.000000\n",
       "Time_spent_Alone              6.424098\n",
       "Stage_fear                   10.219175\n",
       "Social_event_attendance       6.370114\n",
       "Going_outside                 7.914057\n",
       "Drained_after_socializing     6.202764\n",
       "Friends_circle_size           5.689916\n",
       "Post_frequency                6.823580\n",
       "Personality                   0.000000\n",
       "dtype: float64"
      ]
     },
     "execution_count": 9,
     "metadata": {},
     "output_type": "execute_result"
    }
   ],
   "source": [
    "((train.isnull().sum())*100)/train.shape[0]"
   ]
  },
  {
   "cell_type": "code",
   "execution_count": 10,
   "id": "4d5d0ca5",
   "metadata": {
    "execution": {
     "iopub.execute_input": "2025-07-04T12:21:36.591463Z",
     "iopub.status.busy": "2025-07-04T12:21:36.590600Z",
     "iopub.status.idle": "2025-07-04T12:21:36.602431Z",
     "shell.execute_reply": "2025-07-04T12:21:36.601234Z"
    },
    "papermill": {
     "duration": 0.02101,
     "end_time": "2025-07-04T12:21:36.604479",
     "exception": false,
     "start_time": "2025-07-04T12:21:36.583469",
     "status": "completed"
    },
    "tags": []
   },
   "outputs": [
    {
     "name": "stdout",
     "output_type": "stream",
     "text": [
      "Unique Values : \n",
      " id                           18524\n",
      "Time_spent_Alone                12\n",
      "Stage_fear                       2\n",
      "Social_event_attendance         11\n",
      "Going_outside                    8\n",
      "Drained_after_socializing        2\n",
      "Friends_circle_size             16\n",
      "Post_frequency                  11\n",
      "Personality                      2\n",
      "dtype: int64\n"
     ]
    }
   ],
   "source": [
    "print(\"Unique Values : \\n\", train.nunique())"
   ]
  },
  {
   "cell_type": "code",
   "execution_count": 11,
   "id": "e8f8cac1",
   "metadata": {
    "execution": {
     "iopub.execute_input": "2025-07-04T12:21:36.619365Z",
     "iopub.status.busy": "2025-07-04T12:21:36.618654Z",
     "iopub.status.idle": "2025-07-04T12:21:36.624641Z",
     "shell.execute_reply": "2025-07-04T12:21:36.623905Z"
    },
    "papermill": {
     "duration": 0.014787,
     "end_time": "2025-07-04T12:21:36.626049",
     "exception": false,
     "start_time": "2025-07-04T12:21:36.611262",
     "status": "completed"
    },
    "tags": []
   },
   "outputs": [
    {
     "data": {
      "text/plain": [
       "array([ 0.,  1.,  6.,  3.,  2.,  4., nan,  5.,  9., 10.,  7.,  8., 11.])"
      ]
     },
     "execution_count": 11,
     "metadata": {},
     "output_type": "execute_result"
    }
   ],
   "source": [
    "train['Time_spent_Alone'].unique()"
   ]
  },
  {
   "cell_type": "code",
   "execution_count": 12,
   "id": "899d48f0",
   "metadata": {
    "execution": {
     "iopub.execute_input": "2025-07-04T12:21:36.641057Z",
     "iopub.status.busy": "2025-07-04T12:21:36.640265Z",
     "iopub.status.idle": "2025-07-04T12:21:36.651406Z",
     "shell.execute_reply": "2025-07-04T12:21:36.650433Z"
    },
    "papermill": {
     "duration": 0.020035,
     "end_time": "2025-07-04T12:21:36.652967",
     "exception": false,
     "start_time": "2025-07-04T12:21:36.632932",
     "status": "completed"
    },
    "tags": []
   },
   "outputs": [
    {
     "name": "stdout",
     "output_type": "stream",
     "text": [
      "Unique values in id : [    0     1     2 ... 18521 18522 18523]\n",
      "Unique values in Time_spent_Alone : [ 0.  1.  6.  3.  2.  4. nan  5.  9. 10.  7.  8. 11.]\n",
      "Unique values in Stage_fear : ['No' 'Yes' nan]\n",
      "Unique values in Social_event_attendance : [ 6.  7.  1.  4.  8.  2.  5. nan  0.  9.  3. 10.]\n",
      "Unique values in Going_outside : [ 4.  3.  0.  5. nan  1.  6.  2.  7.]\n",
      "Unique values in Drained_after_socializing : ['No' nan 'Yes']\n",
      "Unique values in Friends_circle_size : [15. 10.  3. 11. 13. nan  4.  0. 14.  5.  9. 12.  8.  2.  1.  6.  7.]\n",
      "Unique values in Post_frequency : [ 5.  8.  0. nan  3.  4.  2.  9. 10.  6.  7.  1.]\n",
      "Unique values in Personality : ['Extrovert' 'Introvert']\n"
     ]
    }
   ],
   "source": [
    "for col in train.columns:\n",
    "    print(f\"Unique values in {col} :\", train[col].unique())"
   ]
  },
  {
   "cell_type": "code",
   "execution_count": 13,
   "id": "145ecaa6",
   "metadata": {
    "execution": {
     "iopub.execute_input": "2025-07-04T12:21:36.667683Z",
     "iopub.status.busy": "2025-07-04T12:21:36.666943Z",
     "iopub.status.idle": "2025-07-04T12:21:36.672552Z",
     "shell.execute_reply": "2025-07-04T12:21:36.671694Z"
    },
    "papermill": {
     "duration": 0.014428,
     "end_time": "2025-07-04T12:21:36.674032",
     "exception": false,
     "start_time": "2025-07-04T12:21:36.659604",
     "status": "completed"
    },
    "tags": []
   },
   "outputs": [],
   "source": [
    "mean = train['Time_spent_Alone'].mean()\n",
    "train['Time_spent_Alone'] = train['Time_spent_Alone'].fillna(mean)"
   ]
  },
  {
   "cell_type": "code",
   "execution_count": 14,
   "id": "9a612c81",
   "metadata": {
    "execution": {
     "iopub.execute_input": "2025-07-04T12:21:36.688633Z",
     "iopub.status.busy": "2025-07-04T12:21:36.688346Z",
     "iopub.status.idle": "2025-07-04T12:21:36.692526Z",
     "shell.execute_reply": "2025-07-04T12:21:36.691791Z"
    },
    "papermill": {
     "duration": 0.013136,
     "end_time": "2025-07-04T12:21:36.694011",
     "exception": false,
     "start_time": "2025-07-04T12:21:36.680875",
     "status": "completed"
    },
    "tags": []
   },
   "outputs": [],
   "source": [
    "numeric_cols = ['Time_spent_Alone', 'Social_event_attendance', 'Going_outside',\n",
    "                'Friends_circle_size', 'Post_frequency']\n",
    "binary_cols = ['Stage_fear', 'Drained_after_socializing']"
   ]
  },
  {
   "cell_type": "code",
   "execution_count": 15,
   "id": "6fd7efe4",
   "metadata": {
    "execution": {
     "iopub.execute_input": "2025-07-04T12:21:36.709441Z",
     "iopub.status.busy": "2025-07-04T12:21:36.708680Z",
     "iopub.status.idle": "2025-07-04T12:21:36.717204Z",
     "shell.execute_reply": "2025-07-04T12:21:36.716323Z"
    },
    "papermill": {
     "duration": 0.01758,
     "end_time": "2025-07-04T12:21:36.718726",
     "exception": false,
     "start_time": "2025-07-04T12:21:36.701146",
     "status": "completed"
    },
    "tags": []
   },
   "outputs": [
    {
     "data": {
      "text/plain": [
       "id                             0\n",
       "Time_spent_Alone             425\n",
       "Stage_fear                   598\n",
       "Social_event_attendance      397\n",
       "Going_outside                466\n",
       "Drained_after_socializing    432\n",
       "Friends_circle_size          350\n",
       "Post_frequency               408\n",
       "dtype: int64"
      ]
     },
     "execution_count": 15,
     "metadata": {},
     "output_type": "execute_result"
    }
   ],
   "source": [
    "test.isnull().sum()"
   ]
  },
  {
   "cell_type": "code",
   "execution_count": 16,
   "id": "940db940",
   "metadata": {
    "execution": {
     "iopub.execute_input": "2025-07-04T12:21:36.733884Z",
     "iopub.status.busy": "2025-07-04T12:21:36.733551Z",
     "iopub.status.idle": "2025-07-04T12:21:36.746554Z",
     "shell.execute_reply": "2025-07-04T12:21:36.745614Z"
    },
    "papermill": {
     "duration": 0.022241,
     "end_time": "2025-07-04T12:21:36.748096",
     "exception": false,
     "start_time": "2025-07-04T12:21:36.725855",
     "status": "completed"
    },
    "tags": []
   },
   "outputs": [],
   "source": [
    "for col in numeric_cols:\n",
    "    train.fillna({col: train[col].mean()}, inplace=True)\n",
    "    test.fillna({col: train[col].mean()}, inplace=True)"
   ]
  },
  {
   "cell_type": "code",
   "execution_count": 17,
   "id": "583993ac",
   "metadata": {
    "execution": {
     "iopub.execute_input": "2025-07-04T12:21:36.763627Z",
     "iopub.status.busy": "2025-07-04T12:21:36.762732Z",
     "iopub.status.idle": "2025-07-04T12:21:36.783175Z",
     "shell.execute_reply": "2025-07-04T12:21:36.782225Z"
    },
    "papermill": {
     "duration": 0.029892,
     "end_time": "2025-07-04T12:21:36.784851",
     "exception": false,
     "start_time": "2025-07-04T12:21:36.754959",
     "status": "completed"
    },
    "tags": []
   },
   "outputs": [],
   "source": [
    "for col in binary_cols:\n",
    "    mode = train[col].mode()[0]\n",
    "    train.fillna({col : mode}, inplace = True)\n",
    "    test.fillna({col:mode},inplace = True)\n",
    "    # Convert Yes/No to 1/0\n",
    "    train[col] = train[col].map({'Yes': 1, 'No': 0})\n",
    "    test[col] = test[col].map({'Yes': 1, 'No': 0})"
   ]
  },
  {
   "cell_type": "code",
   "execution_count": 18,
   "id": "20320bf4",
   "metadata": {
    "execution": {
     "iopub.execute_input": "2025-07-04T12:21:36.800083Z",
     "iopub.status.busy": "2025-07-04T12:21:36.799419Z",
     "iopub.status.idle": "2025-07-04T12:21:36.812569Z",
     "shell.execute_reply": "2025-07-04T12:21:36.811572Z"
    },
    "papermill": {
     "duration": 0.022479,
     "end_time": "2025-07-04T12:21:36.814124",
     "exception": false,
     "start_time": "2025-07-04T12:21:36.791645",
     "status": "completed"
    },
    "tags": []
   },
   "outputs": [
    {
     "data": {
      "text/html": [
       "<div>\n",
       "<style scoped>\n",
       "    .dataframe tbody tr th:only-of-type {\n",
       "        vertical-align: middle;\n",
       "    }\n",
       "\n",
       "    .dataframe tbody tr th {\n",
       "        vertical-align: top;\n",
       "    }\n",
       "\n",
       "    .dataframe thead th {\n",
       "        text-align: right;\n",
       "    }\n",
       "</style>\n",
       "<table border=\"1\" class=\"dataframe\">\n",
       "  <thead>\n",
       "    <tr style=\"text-align: right;\">\n",
       "      <th></th>\n",
       "      <th>id</th>\n",
       "      <th>Time_spent_Alone</th>\n",
       "      <th>Stage_fear</th>\n",
       "      <th>Social_event_attendance</th>\n",
       "      <th>Going_outside</th>\n",
       "      <th>Drained_after_socializing</th>\n",
       "      <th>Friends_circle_size</th>\n",
       "      <th>Post_frequency</th>\n",
       "      <th>Personality</th>\n",
       "    </tr>\n",
       "  </thead>\n",
       "  <tbody>\n",
       "    <tr>\n",
       "      <th>0</th>\n",
       "      <td>0</td>\n",
       "      <td>0.0</td>\n",
       "      <td>0</td>\n",
       "      <td>6.0</td>\n",
       "      <td>4.0</td>\n",
       "      <td>0</td>\n",
       "      <td>15.0</td>\n",
       "      <td>5.0</td>\n",
       "      <td>Extrovert</td>\n",
       "    </tr>\n",
       "    <tr>\n",
       "      <th>1</th>\n",
       "      <td>1</td>\n",
       "      <td>1.0</td>\n",
       "      <td>0</td>\n",
       "      <td>7.0</td>\n",
       "      <td>3.0</td>\n",
       "      <td>0</td>\n",
       "      <td>10.0</td>\n",
       "      <td>8.0</td>\n",
       "      <td>Extrovert</td>\n",
       "    </tr>\n",
       "    <tr>\n",
       "      <th>2</th>\n",
       "      <td>2</td>\n",
       "      <td>6.0</td>\n",
       "      <td>1</td>\n",
       "      <td>1.0</td>\n",
       "      <td>0.0</td>\n",
       "      <td>0</td>\n",
       "      <td>3.0</td>\n",
       "      <td>0.0</td>\n",
       "      <td>Introvert</td>\n",
       "    </tr>\n",
       "  </tbody>\n",
       "</table>\n",
       "</div>"
      ],
      "text/plain": [
       "   id  Time_spent_Alone  Stage_fear  Social_event_attendance  Going_outside  \\\n",
       "0   0               0.0           0                      6.0            4.0   \n",
       "1   1               1.0           0                      7.0            3.0   \n",
       "2   2               6.0           1                      1.0            0.0   \n",
       "\n",
       "   Drained_after_socializing  Friends_circle_size  Post_frequency Personality  \n",
       "0                          0                 15.0             5.0   Extrovert  \n",
       "1                          0                 10.0             8.0   Extrovert  \n",
       "2                          0                  3.0             0.0   Introvert  "
      ]
     },
     "execution_count": 18,
     "metadata": {},
     "output_type": "execute_result"
    }
   ],
   "source": [
    "train.head(3)"
   ]
  },
  {
   "cell_type": "code",
   "execution_count": 19,
   "id": "8dcb0adf",
   "metadata": {
    "execution": {
     "iopub.execute_input": "2025-07-04T12:21:36.829399Z",
     "iopub.status.busy": "2025-07-04T12:21:36.828814Z",
     "iopub.status.idle": "2025-07-04T12:21:36.837378Z",
     "shell.execute_reply": "2025-07-04T12:21:36.836331Z"
    },
    "papermill": {
     "duration": 0.017642,
     "end_time": "2025-07-04T12:21:36.838820",
     "exception": false,
     "start_time": "2025-07-04T12:21:36.821178",
     "status": "completed"
    },
    "tags": []
   },
   "outputs": [],
   "source": [
    "le = LabelEncoder()\n",
    "train['Personality'] = le.fit_transform(train['Personality'])  # Extrovert → 0, Introvert → 1"
   ]
  },
  {
   "cell_type": "code",
   "execution_count": 20,
   "id": "17d3a6f7",
   "metadata": {
    "execution": {
     "iopub.execute_input": "2025-07-04T12:21:36.853619Z",
     "iopub.status.busy": "2025-07-04T12:21:36.853337Z",
     "iopub.status.idle": "2025-07-04T12:21:36.859285Z",
     "shell.execute_reply": "2025-07-04T12:21:36.858408Z"
    },
    "papermill": {
     "duration": 0.015131,
     "end_time": "2025-07-04T12:21:36.860768",
     "exception": false,
     "start_time": "2025-07-04T12:21:36.845637",
     "status": "completed"
    },
    "tags": []
   },
   "outputs": [
    {
     "data": {
      "text/plain": [
       "Index(['id', 'Time_spent_Alone', 'Stage_fear', 'Social_event_attendance',\n",
       "       'Going_outside', 'Drained_after_socializing', 'Friends_circle_size',\n",
       "       'Post_frequency', 'Personality'],\n",
       "      dtype='object')"
      ]
     },
     "execution_count": 20,
     "metadata": {},
     "output_type": "execute_result"
    }
   ],
   "source": [
    "train.columns"
   ]
  },
  {
   "cell_type": "code",
   "execution_count": 21,
   "id": "a61d7fcf",
   "metadata": {
    "execution": {
     "iopub.execute_input": "2025-07-04T12:21:36.876210Z",
     "iopub.status.busy": "2025-07-04T12:21:36.875500Z",
     "iopub.status.idle": "2025-07-04T12:21:36.883550Z",
     "shell.execute_reply": "2025-07-04T12:21:36.882710Z"
    },
    "papermill": {
     "duration": 0.017303,
     "end_time": "2025-07-04T12:21:36.885072",
     "exception": false,
     "start_time": "2025-07-04T12:21:36.867769",
     "status": "completed"
    },
    "tags": []
   },
   "outputs": [],
   "source": [
    "features = ['Time_spent_Alone', 'Stage_fear', 'Social_event_attendance',\n",
    "       'Going_outside', 'Drained_after_socializing', 'Friends_circle_size',\n",
    "       'Post_frequency']\n",
    "X = train[features]\n",
    "y = train['Personality']"
   ]
  },
  {
   "cell_type": "code",
   "execution_count": 22,
   "id": "3cea58c0",
   "metadata": {
    "execution": {
     "iopub.execute_input": "2025-07-04T12:21:36.900787Z",
     "iopub.status.busy": "2025-07-04T12:21:36.900428Z",
     "iopub.status.idle": "2025-07-04T12:21:36.911625Z",
     "shell.execute_reply": "2025-07-04T12:21:36.910814Z"
    },
    "papermill": {
     "duration": 0.020656,
     "end_time": "2025-07-04T12:21:36.913091",
     "exception": false,
     "start_time": "2025-07-04T12:21:36.892435",
     "status": "completed"
    },
    "tags": []
   },
   "outputs": [
    {
     "data": {
      "text/html": [
       "<div>\n",
       "<style scoped>\n",
       "    .dataframe tbody tr th:only-of-type {\n",
       "        vertical-align: middle;\n",
       "    }\n",
       "\n",
       "    .dataframe tbody tr th {\n",
       "        vertical-align: top;\n",
       "    }\n",
       "\n",
       "    .dataframe thead th {\n",
       "        text-align: right;\n",
       "    }\n",
       "</style>\n",
       "<table border=\"1\" class=\"dataframe\">\n",
       "  <thead>\n",
       "    <tr style=\"text-align: right;\">\n",
       "      <th></th>\n",
       "      <th>Time_spent_Alone</th>\n",
       "      <th>Stage_fear</th>\n",
       "      <th>Social_event_attendance</th>\n",
       "      <th>Going_outside</th>\n",
       "      <th>Drained_after_socializing</th>\n",
       "      <th>Friends_circle_size</th>\n",
       "      <th>Post_frequency</th>\n",
       "    </tr>\n",
       "  </thead>\n",
       "  <tbody>\n",
       "    <tr>\n",
       "      <th>0</th>\n",
       "      <td>0.0</td>\n",
       "      <td>0</td>\n",
       "      <td>6.0</td>\n",
       "      <td>4.0</td>\n",
       "      <td>0</td>\n",
       "      <td>15.0</td>\n",
       "      <td>5.0</td>\n",
       "    </tr>\n",
       "    <tr>\n",
       "      <th>1</th>\n",
       "      <td>1.0</td>\n",
       "      <td>0</td>\n",
       "      <td>7.0</td>\n",
       "      <td>3.0</td>\n",
       "      <td>0</td>\n",
       "      <td>10.0</td>\n",
       "      <td>8.0</td>\n",
       "    </tr>\n",
       "    <tr>\n",
       "      <th>2</th>\n",
       "      <td>6.0</td>\n",
       "      <td>1</td>\n",
       "      <td>1.0</td>\n",
       "      <td>0.0</td>\n",
       "      <td>0</td>\n",
       "      <td>3.0</td>\n",
       "      <td>0.0</td>\n",
       "    </tr>\n",
       "  </tbody>\n",
       "</table>\n",
       "</div>"
      ],
      "text/plain": [
       "   Time_spent_Alone  Stage_fear  Social_event_attendance  Going_outside  \\\n",
       "0               0.0           0                      6.0            4.0   \n",
       "1               1.0           0                      7.0            3.0   \n",
       "2               6.0           1                      1.0            0.0   \n",
       "\n",
       "   Drained_after_socializing  Friends_circle_size  Post_frequency  \n",
       "0                          0                 15.0             5.0  \n",
       "1                          0                 10.0             8.0  \n",
       "2                          0                  3.0             0.0  "
      ]
     },
     "execution_count": 22,
     "metadata": {},
     "output_type": "execute_result"
    }
   ],
   "source": [
    "X.head(3)"
   ]
  },
  {
   "cell_type": "code",
   "execution_count": 23,
   "id": "39dc444b",
   "metadata": {
    "execution": {
     "iopub.execute_input": "2025-07-04T12:21:36.928517Z",
     "iopub.status.busy": "2025-07-04T12:21:36.928179Z",
     "iopub.status.idle": "2025-07-04T12:21:36.934324Z",
     "shell.execute_reply": "2025-07-04T12:21:36.933587Z"
    },
    "papermill": {
     "duration": 0.01546,
     "end_time": "2025-07-04T12:21:36.935667",
     "exception": false,
     "start_time": "2025-07-04T12:21:36.920207",
     "status": "completed"
    },
    "tags": []
   },
   "outputs": [
    {
     "data": {
      "text/plain": [
       "0    0\n",
       "1    0\n",
       "2    1\n",
       "Name: Personality, dtype: int64"
      ]
     },
     "execution_count": 23,
     "metadata": {},
     "output_type": "execute_result"
    }
   ],
   "source": [
    "y.head(3)"
   ]
  },
  {
   "cell_type": "code",
   "execution_count": 24,
   "id": "f740c050",
   "metadata": {
    "execution": {
     "iopub.execute_input": "2025-07-04T12:21:36.951544Z",
     "iopub.status.busy": "2025-07-04T12:21:36.950934Z",
     "iopub.status.idle": "2025-07-04T12:21:36.959542Z",
     "shell.execute_reply": "2025-07-04T12:21:36.958794Z"
    },
    "papermill": {
     "duration": 0.017914,
     "end_time": "2025-07-04T12:21:36.960961",
     "exception": false,
     "start_time": "2025-07-04T12:21:36.943047",
     "status": "completed"
    },
    "tags": []
   },
   "outputs": [],
   "source": [
    "X_train, X_test, y_train, y_test = train_test_split(\n",
    "    X,y,\n",
    "    test_size = 0.2,\n",
    "    random_state = 42\n",
    ")"
   ]
  },
  {
   "cell_type": "code",
   "execution_count": 25,
   "id": "01b59fd3",
   "metadata": {
    "execution": {
     "iopub.execute_input": "2025-07-04T12:21:36.976599Z",
     "iopub.status.busy": "2025-07-04T12:21:36.976273Z",
     "iopub.status.idle": "2025-07-04T12:21:37.932635Z",
     "shell.execute_reply": "2025-07-04T12:21:37.931697Z"
    },
    "papermill": {
     "duration": 0.965961,
     "end_time": "2025-07-04T12:21:37.934244",
     "exception": false,
     "start_time": "2025-07-04T12:21:36.968283",
     "status": "completed"
    },
    "tags": []
   },
   "outputs": [
    {
     "data": {
      "text/html": [
       "<style>#sk-container-id-1 {color: black;background-color: white;}#sk-container-id-1 pre{padding: 0;}#sk-container-id-1 div.sk-toggleable {background-color: white;}#sk-container-id-1 label.sk-toggleable__label {cursor: pointer;display: block;width: 100%;margin-bottom: 0;padding: 0.3em;box-sizing: border-box;text-align: center;}#sk-container-id-1 label.sk-toggleable__label-arrow:before {content: \"▸\";float: left;margin-right: 0.25em;color: #696969;}#sk-container-id-1 label.sk-toggleable__label-arrow:hover:before {color: black;}#sk-container-id-1 div.sk-estimator:hover label.sk-toggleable__label-arrow:before {color: black;}#sk-container-id-1 div.sk-toggleable__content {max-height: 0;max-width: 0;overflow: hidden;text-align: left;background-color: #f0f8ff;}#sk-container-id-1 div.sk-toggleable__content pre {margin: 0.2em;color: black;border-radius: 0.25em;background-color: #f0f8ff;}#sk-container-id-1 input.sk-toggleable__control:checked~div.sk-toggleable__content {max-height: 200px;max-width: 100%;overflow: auto;}#sk-container-id-1 input.sk-toggleable__control:checked~label.sk-toggleable__label-arrow:before {content: \"▾\";}#sk-container-id-1 div.sk-estimator input.sk-toggleable__control:checked~label.sk-toggleable__label {background-color: #d4ebff;}#sk-container-id-1 div.sk-label input.sk-toggleable__control:checked~label.sk-toggleable__label {background-color: #d4ebff;}#sk-container-id-1 input.sk-hidden--visually {border: 0;clip: rect(1px 1px 1px 1px);clip: rect(1px, 1px, 1px, 1px);height: 1px;margin: -1px;overflow: hidden;padding: 0;position: absolute;width: 1px;}#sk-container-id-1 div.sk-estimator {font-family: monospace;background-color: #f0f8ff;border: 1px dotted black;border-radius: 0.25em;box-sizing: border-box;margin-bottom: 0.5em;}#sk-container-id-1 div.sk-estimator:hover {background-color: #d4ebff;}#sk-container-id-1 div.sk-parallel-item::after {content: \"\";width: 100%;border-bottom: 1px solid gray;flex-grow: 1;}#sk-container-id-1 div.sk-label:hover label.sk-toggleable__label {background-color: #d4ebff;}#sk-container-id-1 div.sk-serial::before {content: \"\";position: absolute;border-left: 1px solid gray;box-sizing: border-box;top: 0;bottom: 0;left: 50%;z-index: 0;}#sk-container-id-1 div.sk-serial {display: flex;flex-direction: column;align-items: center;background-color: white;padding-right: 0.2em;padding-left: 0.2em;position: relative;}#sk-container-id-1 div.sk-item {position: relative;z-index: 1;}#sk-container-id-1 div.sk-parallel {display: flex;align-items: stretch;justify-content: center;background-color: white;position: relative;}#sk-container-id-1 div.sk-item::before, #sk-container-id-1 div.sk-parallel-item::before {content: \"\";position: absolute;border-left: 1px solid gray;box-sizing: border-box;top: 0;bottom: 0;left: 50%;z-index: -1;}#sk-container-id-1 div.sk-parallel-item {display: flex;flex-direction: column;z-index: 1;position: relative;background-color: white;}#sk-container-id-1 div.sk-parallel-item:first-child::after {align-self: flex-end;width: 50%;}#sk-container-id-1 div.sk-parallel-item:last-child::after {align-self: flex-start;width: 50%;}#sk-container-id-1 div.sk-parallel-item:only-child::after {width: 0;}#sk-container-id-1 div.sk-dashed-wrapped {border: 1px dashed gray;margin: 0 0.4em 0.5em 0.4em;box-sizing: border-box;padding-bottom: 0.4em;background-color: white;}#sk-container-id-1 div.sk-label label {font-family: monospace;font-weight: bold;display: inline-block;line-height: 1.2em;}#sk-container-id-1 div.sk-label-container {text-align: center;}#sk-container-id-1 div.sk-container {/* jupyter's `normalize.less` sets `[hidden] { display: none; }` but bootstrap.min.css set `[hidden] { display: none !important; }` so we also need the `!important` here to be able to override the default hidden behavior on the sphinx rendered scikit-learn.org. See: https://github.com/scikit-learn/scikit-learn/issues/21755 */display: inline-block !important;position: relative;}#sk-container-id-1 div.sk-text-repr-fallback {display: none;}</style><div id=\"sk-container-id-1\" class=\"sk-top-container\"><div class=\"sk-text-repr-fallback\"><pre>RandomForestClassifier(random_state=42)</pre><b>In a Jupyter environment, please rerun this cell to show the HTML representation or trust the notebook. <br />On GitHub, the HTML representation is unable to render, please try loading this page with nbviewer.org.</b></div><div class=\"sk-container\" hidden><div class=\"sk-item\"><div class=\"sk-estimator sk-toggleable\"><input class=\"sk-toggleable__control sk-hidden--visually\" id=\"sk-estimator-id-1\" type=\"checkbox\" checked><label for=\"sk-estimator-id-1\" class=\"sk-toggleable__label sk-toggleable__label-arrow\">RandomForestClassifier</label><div class=\"sk-toggleable__content\"><pre>RandomForestClassifier(random_state=42)</pre></div></div></div></div></div>"
      ],
      "text/plain": [
       "RandomForestClassifier(random_state=42)"
      ]
     },
     "execution_count": 25,
     "metadata": {},
     "output_type": "execute_result"
    }
   ],
   "source": [
    "model = RandomForestClassifier(random_state = 42)\n",
    "model.fit(X_train, y_train)"
   ]
  },
  {
   "cell_type": "code",
   "execution_count": 26,
   "id": "460e0211",
   "metadata": {
    "execution": {
     "iopub.execute_input": "2025-07-04T12:21:37.950915Z",
     "iopub.status.busy": "2025-07-04T12:21:37.950586Z",
     "iopub.status.idle": "2025-07-04T12:21:38.023356Z",
     "shell.execute_reply": "2025-07-04T12:21:38.022499Z"
    },
    "papermill": {
     "duration": 0.082743,
     "end_time": "2025-07-04T12:21:38.024880",
     "exception": false,
     "start_time": "2025-07-04T12:21:37.942137",
     "status": "completed"
    },
    "tags": []
   },
   "outputs": [
    {
     "data": {
      "text/plain": [
       "array([0, 0, 0, ..., 0, 0, 0])"
      ]
     },
     "execution_count": 26,
     "metadata": {},
     "output_type": "execute_result"
    }
   ],
   "source": [
    "y_pred = model.predict(X_test)\n",
    "y_pred"
   ]
  },
  {
   "cell_type": "code",
   "execution_count": 27,
   "id": "0630c137",
   "metadata": {
    "execution": {
     "iopub.execute_input": "2025-07-04T12:21:38.041886Z",
     "iopub.status.busy": "2025-07-04T12:21:38.041082Z",
     "iopub.status.idle": "2025-07-04T12:21:38.047717Z",
     "shell.execute_reply": "2025-07-04T12:21:38.046917Z"
    },
    "papermill": {
     "duration": 0.016514,
     "end_time": "2025-07-04T12:21:38.049118",
     "exception": false,
     "start_time": "2025-07-04T12:21:38.032604",
     "status": "completed"
    },
    "tags": []
   },
   "outputs": [
    {
     "name": "stdout",
     "output_type": "stream",
     "text": [
      "Validation Accuracy: 0.9668016\n"
     ]
    }
   ],
   "source": [
    "val_accuracy = accuracy_score(y_test, y_pred)\n",
    "print(f\"Validation Accuracy: {val_accuracy:.7f}\")"
   ]
  },
  {
   "cell_type": "code",
   "execution_count": 28,
   "id": "09ba4f83",
   "metadata": {
    "execution": {
     "iopub.execute_input": "2025-07-04T12:21:38.066116Z",
     "iopub.status.busy": "2025-07-04T12:21:38.065219Z",
     "iopub.status.idle": "2025-07-04T12:21:38.182498Z",
     "shell.execute_reply": "2025-07-04T12:21:38.181681Z"
    },
    "papermill": {
     "duration": 0.127148,
     "end_time": "2025-07-04T12:21:38.184017",
     "exception": false,
     "start_time": "2025-07-04T12:21:38.056869",
     "status": "completed"
    },
    "tags": []
   },
   "outputs": [
    {
     "data": {
      "text/plain": [
       "array([0, 1, 0, ..., 0, 0, 1])"
      ]
     },
     "execution_count": 28,
     "metadata": {},
     "output_type": "execute_result"
    }
   ],
   "source": [
    "test_preds = model.predict(test[features])\n",
    "test_preds"
   ]
  },
  {
   "cell_type": "code",
   "execution_count": 29,
   "id": "89d6b271",
   "metadata": {
    "execution": {
     "iopub.execute_input": "2025-07-04T12:21:38.200842Z",
     "iopub.status.busy": "2025-07-04T12:21:38.200100Z",
     "iopub.status.idle": "2025-07-04T12:21:38.208697Z",
     "shell.execute_reply": "2025-07-04T12:21:38.207708Z"
    },
    "papermill": {
     "duration": 0.018367,
     "end_time": "2025-07-04T12:21:38.210025",
     "exception": false,
     "start_time": "2025-07-04T12:21:38.191658",
     "status": "completed"
    },
    "tags": []
   },
   "outputs": [
    {
     "data": {
      "text/plain": [
       "0       Extrovert\n",
       "1       Introvert\n",
       "2       Extrovert\n",
       "3       Extrovert\n",
       "4       Introvert\n",
       "          ...    \n",
       "6170    Extrovert\n",
       "6171    Introvert\n",
       "6172    Extrovert\n",
       "6173    Extrovert\n",
       "6174    Introvert\n",
       "Name: Personality, Length: 6175, dtype: object"
      ]
     },
     "execution_count": 29,
     "metadata": {},
     "output_type": "execute_result"
    }
   ],
   "source": [
    "test['Personality'] = le.inverse_transform(test_preds)\n",
    "test['Personality']"
   ]
  },
  {
   "cell_type": "code",
   "execution_count": 30,
   "id": "9c2cee9b",
   "metadata": {
    "execution": {
     "iopub.execute_input": "2025-07-04T12:21:38.226711Z",
     "iopub.status.busy": "2025-07-04T12:21:38.226397Z",
     "iopub.status.idle": "2025-07-04T12:21:38.472115Z",
     "shell.execute_reply": "2025-07-04T12:21:38.471187Z"
    },
    "papermill": {
     "duration": 0.25585,
     "end_time": "2025-07-04T12:21:38.473723",
     "exception": false,
     "start_time": "2025-07-04T12:21:38.217873",
     "status": "completed"
    },
    "tags": []
   },
   "outputs": [
    {
     "data": {
      "image/png": "[encoded data removed]",
      "text/plain": [
       "<Figure size 640x480 with 1 Axes>"
      ]
     },
     "metadata": {},
     "output_type": "display_data"
    }
   ],
   "source": [
    "sns.countplot(data=train, x=le.inverse_transform(y))\n",
    "plt.title(\"Personality Distribution\")\n",
    "plt.show()"
   ]
  },
  {
   "cell_type": "code",
   "execution_count": 31,
   "id": "de72e499",
   "metadata": {
    "execution": {
     "iopub.execute_input": "2025-07-04T12:21:38.491352Z",
     "iopub.status.busy": "2025-07-04T12:21:38.490822Z",
     "iopub.status.idle": "2025-07-04T12:21:38.648322Z",
     "shell.execute_reply": "2025-07-04T12:21:38.647260Z"
    },
    "papermill": {
     "duration": 0.16821,
     "end_time": "2025-07-04T12:21:38.650211",
     "exception": false,
     "start_time": "2025-07-04T12:21:38.482001",
     "status": "completed"
    },
    "tags": []
   },
   "outputs": [
    {
     "data": {
      "image/png": "[encoded data removed]",
      "text/plain": [
       "<Figure size 640x480 with 1 Axes>"
      ]
     },
     "metadata": {},
     "output_type": "display_data"
    }
   ],
   "source": [
    "sns.boxplot(data=train, x=le.inverse_transform(y), y='Time_spent_Alone')\n",
    "plt.title(\"Time Spent Alone by Personality\")\n",
    "plt.show()"
   ]
  },
  {
   "cell_type": "code",
   "execution_count": 32,
   "id": "2894b2a4",
   "metadata": {
    "execution": {
     "iopub.execute_input": "2025-07-04T12:21:38.747871Z",
     "iopub.status.busy": "2025-07-04T12:21:38.747516Z",
     "iopub.status.idle": "2025-07-04T12:21:39.176273Z",
     "shell.execute_reply": "2025-07-04T12:21:39.175233Z"
    },
    "papermill": {
     "duration": 0.513977,
     "end_time": "2025-07-04T12:21:39.177947",
     "exception": false,
     "start_time": "2025-07-04T12:21:38.663970",
     "status": "completed"
    },
    "tags": []
   },
   "outputs": [
    {
     "name": "stderr",
     "output_type": "stream",
     "text": [
      "/usr/local/lib/python3.11/dist-packages/seaborn/_oldcore.py:1119: FutureWarning: use_inf_as_na option is deprecated and will be removed in a future version. Convert inf values to NaN before operating instead.\n",
      "  with pd.option_context('mode.use_inf_as_na', True):\n",
      "/usr/local/lib/python3.11/dist-packages/seaborn/_oldcore.py:1075: FutureWarning: When grouping with a length-1 list-like, you will need to pass a length-1 tuple to get_group in a future version of pandas. Pass `(name,)` instead of `name` to silence this warning.\n",
      "  data_subset = grouped_data.get_group(pd_key)\n",
      "/usr/local/lib/python3.11/dist-packages/seaborn/_oldcore.py:1075: FutureWarning: When grouping with a length-1 list-like, you will need to pass a length-1 tuple to get_group in a future version of pandas. Pass `(name,)` instead of `name` to silence this warning.\n",
      "  data_subset = grouped_data.get_group(pd_key)\n",
      "/usr/local/lib/python3.11/dist-packages/seaborn/_oldcore.py:1075: FutureWarning: When grouping with a length-1 list-like, you will need to pass a length-1 tuple to get_group in a future version of pandas. Pass `(name,)` instead of `name` to silence this warning.\n",
      "  data_subset = grouped_data.get_group(pd_key)\n"
     ]
    },
    {
     "data": {
      "image/png": "[encoded data removed]",
      "text/plain": [
       "<Figure size 640x480 with 1 Axes>"
      ]
     },
     "metadata": {},
     "output_type": "display_data"
    }
   ],
   "source": [
    "sns.kdeplot(data=train, x='Friends_circle_size', hue=le.inverse_transform(y), fill=True)\n",
    "plt.title(\"Friends Circle Size Distribution\")\n",
    "plt.show()"
   ]
  },
  {
   "cell_type": "code",
   "execution_count": 33,
   "id": "58065667",
   "metadata": {
    "execution": {
     "iopub.execute_input": "2025-07-04T12:21:39.199502Z",
     "iopub.status.busy": "2025-07-04T12:21:39.199202Z",
     "iopub.status.idle": "2025-07-04T12:21:39.675455Z",
     "shell.execute_reply": "2025-07-04T12:21:39.674485Z"
    },
    "papermill": {
     "duration": 0.490276,
     "end_time": "2025-07-04T12:21:39.678258",
     "exception": false,
     "start_time": "2025-07-04T12:21:39.187982",
     "status": "completed"
    },
    "tags": []
   },
   "outputs": [
    {
     "data": {
      "image/png": "[encoded data removed]",
      "text/plain": [
       "<Figure size 1000x600 with 2 Axes>"
      ]
     },
     "metadata": {},
     "output_type": "display_data"
    }
   ],
   "source": [
    "train_corr = train.copy()\n",
    "plt.figure(figsize=(10, 6))\n",
    "sns.heatmap(train_corr.corr(), annot=True, cmap='coolwarm')\n",
    "plt.title(\"Feature Correlation\")\n",
    "plt.show()"
   ]
  },
  {
   "cell_type": "code",
   "execution_count": 34,
   "id": "710e44e4",
   "metadata": {
    "execution": {
     "iopub.execute_input": "2025-07-04T12:21:39.704095Z",
     "iopub.status.busy": "2025-07-04T12:21:39.703198Z",
     "iopub.status.idle": "2025-07-04T12:21:39.813842Z",
     "shell.execute_reply": "2025-07-04T12:21:39.812925Z"
    },
    "papermill": {
     "duration": 0.12499,
     "end_time": "2025-07-04T12:21:39.815516",
     "exception": false,
     "start_time": "2025-07-04T12:21:39.690526",
     "status": "completed"
    },
    "tags": []
   },
   "outputs": [],
   "source": [
    "test_preds = model.predict(test[features])\n",
    "test['Personality'] = le.inverse_transform(test_preds)  # convert back to string labels"
   ]
  },
  {
   "cell_type": "code",
   "execution_count": 35,
   "id": "75f55494",
   "metadata": {
    "execution": {
     "iopub.execute_input": "2025-07-04T12:21:39.840289Z",
     "iopub.status.busy": "2025-07-04T12:21:39.839989Z",
     "iopub.status.idle": "2025-07-04T12:21:39.867396Z",
     "shell.execute_reply": "2025-07-04T12:21:39.866355Z"
    },
    "papermill": {
     "duration": 0.042112,
     "end_time": "2025-07-04T12:21:39.869362",
     "exception": false,
     "start_time": "2025-07-04T12:21:39.827250",
     "status": "completed"
    },
    "tags": []
   },
   "outputs": [
    {
     "name": "stdout",
     "output_type": "stream",
     "text": [
      "submission.csv ready to upload!\n"
     ]
    }
   ],
   "source": [
    "submission = test[['id', 'Personality']]\n",
    "submission.to_csv(\"submission2.csv\", index=False)\n",
    "print(\"submission.csv ready to upload!\")"
   ]
  },
  {
   "cell_type": "code",
   "execution_count": null,
   "id": "93c632a1",
   "metadata": {
    "papermill": {
     "duration": 0.01156,
     "end_time": "2025-07-04T12:21:39.898807",
     "exception": false,
     "start_time": "2025-07-04T12:21:39.887247",
     "status": "completed"
    },
    "tags": []
   },
   "outputs": [],
   "source": []
  }
 ],
 "metadata": {
  "kaggle": {
   "accelerator": "none",
   "dataSources": [
    {
     "databundleVersionId": 12738969,
     "sourceId": 91718,
     "sourceType": "competition"
    }
   ],
   "dockerImageVersionId": 31040,
   "isGpuEnabled": false,
   "isInternetEnabled": true,
   "language": "python",
   "sourceType": "notebook"
  },
  "kernelspec": {
   "display_name": "Python 3",
   "language": "python",
   "name": "python3"
  },
  "language_info": {
   "codemirror_mode": {
    "name": "ipython",
    "version": 3
   },
   "file_extension": ".py",
   "mimetype": "text/x-python",
   "name": "python",
   "nbconvert_exporter": "python",
   "pygments_lexer": "ipython3",
   "version": "3.11.11"
  },
  "papermill": {
   "default_parameters": {},
   "duration": 13.26648,
   "end_time": "2025-07-04T12:21:40.631121",
   "environment_variables": {},
   "exception": null,
   "input_path": "__notebook__.ipynb",
   "output_path": "__notebook__.ipynb",
   "parameters": {},
   "start_time": "2025-07-04T12:21:27.364641",
   "version": "2.6.0"
  }
 },
 "nbformat": 4,
 "nbformat_minor": 5
}
